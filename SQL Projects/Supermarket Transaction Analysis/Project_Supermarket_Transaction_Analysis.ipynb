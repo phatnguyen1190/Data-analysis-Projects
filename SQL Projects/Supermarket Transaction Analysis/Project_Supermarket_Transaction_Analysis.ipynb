{
    "cells": [
        {
            "attachments": {},
            "cell_type": "markdown",
            "metadata": {
                "azdata_cell_guid": "d6ebf828-1b3e-4175-9de1-435bf578a146"
            },
            "source": [
                "# Supermarket Transaction Analysis\n",
                "\n",
                "-----"
            ]
        },
        {
            "attachments": {},
            "cell_type": "markdown",
            "metadata": {
                "azdata_cell_guid": "25f51ecb-c2ed-4be6-b6cc-67e6bed29fa4"
            },
            "source": [
                "## 1. Exploring the data:"
            ]
        },
        {
            "cell_type": "code",
            "execution_count": 2,
            "metadata": {
                "azdata_cell_guid": "7bdf3231-17aa-46b1-92d7-6ab32e183308",
                "language": "sql"
            },
            "outputs": [
                {
                    "data": {
                        "text/html": [
                            "(10 rows affected)"
                        ]
                    },
                    "metadata": {},
                    "output_type": "display_data"
                },
                {
                    "data": {
                        "text/html": [
                            "(10 rows affected)"
                        ]
                    },
                    "metadata": {},
                    "output_type": "display_data"
                },
                {
                    "data": {
                        "text/html": [
                            "Total execution time: 00:00:00.017"
                        ]
                    },
                    "metadata": {},
                    "output_type": "display_data"
                },
                {
                    "data": {
                        "application/vnd.dataresource+json": {
                            "data": [
                                {
                                    "0": "1",
                                    "1": "8",
                                    "2": "19",
                                    "3": "2019-02-13 05:37:55.0000000",
                                    "4": "269"
                                },
                                {
                                    "0": "2",
                                    "1": "8",
                                    "2": "18",
                                    "3": "2019-02-13 05:37:55.0000000",
                                    "4": "268"
                                },
                                {
                                    "0": "3",
                                    "1": "8",
                                    "2": "17",
                                    "3": "2019-02-13 05:38:43.0000000",
                                    "4": "267"
                                },
                                {
                                    "0": "4",
                                    "1": "1",
                                    "2": "4",
                                    "3": "2019-02-13 07:01:26.0000000",
                                    "4": "332"
                                },
                                {
                                    "0": "5",
                                    "1": "1",
                                    "2": "7",
                                    "3": "2019-02-13 07:01:57.0000000",
                                    "4": "10"
                                },
                                {
                                    "0": "6",
                                    "1": "1",
                                    "2": "7",
                                    "3": "2019-02-13 07:02:16.0000000",
                                    "4": "10"
                                },
                                {
                                    "0": "7",
                                    "1": "1",
                                    "2": "4",
                                    "3": "2019-02-13 07:03:54.0000000",
                                    "4": "332"
                                },
                                {
                                    "0": "8",
                                    "1": "1",
                                    "2": "4",
                                    "3": "2019-02-13 07:05:52.0000000",
                                    "4": "332"
                                },
                                {
                                    "0": "9",
                                    "1": "1",
                                    "2": "7",
                                    "3": "2019-02-13 07:32:51.0000000",
                                    "4": "114"
                                },
                                {
                                    "0": "10",
                                    "1": "1",
                                    "2": "7",
                                    "3": "2019-02-13 07:35:12.0000000",
                                    "4": "114"
                                }
                            ],
                            "schema": {
                                "fields": [
                                    {
                                        "name": "id"
                                    },
                                    {
                                        "name": "Workstation_Group_ID"
                                    },
                                    {
                                        "name": "Workstation_ID"
                                    },
                                    {
                                        "name": "begin_date_time"
                                    },
                                    {
                                        "name": "operator_id"
                                    }
                                ]
                            }
                        },
                        "text/html": [
                            "<table>\n",
                            "<tr><th>id</th><th>Workstation_Group_ID</th><th>Workstation_ID</th><th>begin_date_time</th><th>operator_id</th></tr>\n",
                            "<tr><td>1</td><td>8</td><td>19</td><td>2019-02-13 05:37:55.0000000</td><td>269</td></tr>\n",
                            "<tr><td>2</td><td>8</td><td>18</td><td>2019-02-13 05:37:55.0000000</td><td>268</td></tr>\n",
                            "<tr><td>3</td><td>8</td><td>17</td><td>2019-02-13 05:38:43.0000000</td><td>267</td></tr>\n",
                            "<tr><td>4</td><td>1</td><td>4</td><td>2019-02-13 07:01:26.0000000</td><td>332</td></tr>\n",
                            "<tr><td>5</td><td>1</td><td>7</td><td>2019-02-13 07:01:57.0000000</td><td>10</td></tr>\n",
                            "<tr><td>6</td><td>1</td><td>7</td><td>2019-02-13 07:02:16.0000000</td><td>10</td></tr>\n",
                            "<tr><td>7</td><td>1</td><td>4</td><td>2019-02-13 07:03:54.0000000</td><td>332</td></tr>\n",
                            "<tr><td>8</td><td>1</td><td>4</td><td>2019-02-13 07:05:52.0000000</td><td>332</td></tr>\n",
                            "<tr><td>9</td><td>1</td><td>7</td><td>2019-02-13 07:32:51.0000000</td><td>114</td></tr>\n",
                            "<tr><td>10</td><td>1</td><td>7</td><td>2019-02-13 07:35:12.0000000</td><td>114</td></tr>\n",
                            "</table>"
                        ]
                    },
                    "execution_count": 2,
                    "metadata": {},
                    "output_type": "execute_result"
                },
                {
                    "data": {
                        "application/vnd.dataresource+json": {
                            "data": [
                                {
                                    "0": "1",
                                    "1": "1",
                                    "2": "2017-12-07 14:23:23.0000000",
                                    "3": "2017-12-07 14:24:36.0000000",
                                    "4": "101",
                                    "5": "23",
                                    "6": "1",
                                    "7": "0",
                                    "8": "112.71"
                                },
                                {
                                    "0": "2",
                                    "1": "1",
                                    "2": "2017-12-07 14:25:09.0000000",
                                    "3": "2017-12-07 14:27:00.0000000",
                                    "4": "101",
                                    "5": "29",
                                    "6": "1",
                                    "7": "0",
                                    "8": "54.76"
                                },
                                {
                                    "0": "3",
                                    "1": "1",
                                    "2": "2017-12-07 14:27:28.0000000",
                                    "3": "2017-12-07 14:27:48.0000000",
                                    "4": "101",
                                    "5": "3",
                                    "6": "1",
                                    "7": "0",
                                    "8": "14.77"
                                },
                                {
                                    "0": "4",
                                    "1": "1",
                                    "2": "2017-12-07 14:28:04.0000000",
                                    "3": "2017-12-07 14:28:29.0000000",
                                    "4": "101",
                                    "5": "12",
                                    "6": "1",
                                    "7": "0",
                                    "8": "37.88"
                                },
                                {
                                    "0": "5",
                                    "1": "1",
                                    "2": "2017-12-07 14:29:40.0000000",
                                    "3": "2017-12-07 14:30:32.0000000",
                                    "4": "101",
                                    "5": "7",
                                    "6": "1",
                                    "7": "0",
                                    "8": "115.34"
                                },
                                {
                                    "0": "6",
                                    "1": "1",
                                    "2": "2017-12-07 14:31:03.0000000",
                                    "3": "2017-12-07 14:32:01.0000000",
                                    "4": "101",
                                    "5": "12",
                                    "6": "0",
                                    "7": "1",
                                    "8": "232.89"
                                },
                                {
                                    "0": "7",
                                    "1": "1",
                                    "2": "2017-12-07 14:32:25.0000000",
                                    "3": "2017-12-07 14:36:03.0000000",
                                    "4": "101",
                                    "5": "36",
                                    "6": "1",
                                    "7": "0",
                                    "8": "183.15"
                                },
                                {
                                    "0": "8",
                                    "1": "1",
                                    "2": "2017-12-07 14:36:32.0000000",
                                    "3": "2017-12-07 14:37:15.0000000",
                                    "4": "101",
                                    "5": "10",
                                    "6": "1",
                                    "7": "0",
                                    "8": "39.68"
                                },
                                {
                                    "0": "9",
                                    "1": "1",
                                    "2": "2017-12-07 14:37:31.0000000",
                                    "3": "2017-12-07 14:38:07.0000000",
                                    "4": "101",
                                    "5": "15",
                                    "6": "1",
                                    "7": "0",
                                    "8": "44.53"
                                },
                                {
                                    "0": "10",
                                    "1": "1",
                                    "2": "2017-12-07 14:38:21.0000000",
                                    "3": "2017-12-07 14:39:12.0000000",
                                    "4": "101",
                                    "5": "15",
                                    "6": "0",
                                    "7": "1",
                                    "8": "42.73"
                                }
                            ],
                            "schema": {
                                "fields": [
                                    {
                                        "name": "id"
                                    },
                                    {
                                        "name": "WorkstationGroupID"
                                    },
                                    {
                                        "name": "begin_date_time"
                                    },
                                    {
                                        "name": "end_date_time"
                                    },
                                    {
                                        "name": "OperatorID"
                                    },
                                    {
                                        "name": "basket_size"
                                    },
                                    {
                                        "name": "t_cash"
                                    },
                                    {
                                        "name": "t_card"
                                    },
                                    {
                                        "name": "amount"
                                    }
                                ]
                            }
                        },
                        "text/html": [
                            "<table>\n",
                            "<tr><th>id</th><th>WorkstationGroupID</th><th>begin_date_time</th><th>end_date_time</th><th>OperatorID</th><th>basket_size</th><th>t_cash</th><th>t_card</th><th>amount</th></tr>\n",
                            "<tr><td>1</td><td>1</td><td>2017-12-07 14:23:23.0000000</td><td>2017-12-07 14:24:36.0000000</td><td>101</td><td>23</td><td>1</td><td>0</td><td>112.71</td></tr>\n",
                            "<tr><td>2</td><td>1</td><td>2017-12-07 14:25:09.0000000</td><td>2017-12-07 14:27:00.0000000</td><td>101</td><td>29</td><td>1</td><td>0</td><td>54.76</td></tr>\n",
                            "<tr><td>3</td><td>1</td><td>2017-12-07 14:27:28.0000000</td><td>2017-12-07 14:27:48.0000000</td><td>101</td><td>3</td><td>1</td><td>0</td><td>14.77</td></tr>\n",
                            "<tr><td>4</td><td>1</td><td>2017-12-07 14:28:04.0000000</td><td>2017-12-07 14:28:29.0000000</td><td>101</td><td>12</td><td>1</td><td>0</td><td>37.88</td></tr>\n",
                            "<tr><td>5</td><td>1</td><td>2017-12-07 14:29:40.0000000</td><td>2017-12-07 14:30:32.0000000</td><td>101</td><td>7</td><td>1</td><td>0</td><td>115.34</td></tr>\n",
                            "<tr><td>6</td><td>1</td><td>2017-12-07 14:31:03.0000000</td><td>2017-12-07 14:32:01.0000000</td><td>101</td><td>12</td><td>0</td><td>1</td><td>232.89</td></tr>\n",
                            "<tr><td>7</td><td>1</td><td>2017-12-07 14:32:25.0000000</td><td>2017-12-07 14:36:03.0000000</td><td>101</td><td>36</td><td>1</td><td>0</td><td>183.15</td></tr>\n",
                            "<tr><td>8</td><td>1</td><td>2017-12-07 14:36:32.0000000</td><td>2017-12-07 14:37:15.0000000</td><td>101</td><td>10</td><td>1</td><td>0</td><td>39.68</td></tr>\n",
                            "<tr><td>9</td><td>1</td><td>2017-12-07 14:37:31.0000000</td><td>2017-12-07 14:38:07.0000000</td><td>101</td><td>15</td><td>1</td><td>0</td><td>44.53</td></tr>\n",
                            "<tr><td>10</td><td>1</td><td>2017-12-07 14:38:21.0000000</td><td>2017-12-07 14:39:12.0000000</td><td>101</td><td>15</td><td>0</td><td>1</td><td>42.73</td></tr>\n",
                            "</table>"
                        ]
                    },
                    "execution_count": 2,
                    "metadata": {},
                    "output_type": "execute_result"
                }
            ],
            "source": [
                "--Select top 10 rows from pos_operator_logs and pos_transactions\n",
                "SELECT TOP 10 *\n",
                "FROM pos_operator_logs\n",
                "\n",
                "SELECT TOP 10 *\n",
                "FROM pos_transactions;"
            ]
        },
        {
            "attachments": {},
            "cell_type": "markdown",
            "metadata": {},
            "source": [
                "|id|Workstation_Group_ID|Workstation_ID|begin_date_time|operator_id|\n",
                "|---|---|---|---|---|\n",
                "|1|8|19|2019-02-13 05:37:55.0000000|269|\n",
                "|2|8|18|2019-02-13 05:37:55.0000000|268|\n",
                "|3|8|17|2019-02-13 05:38:43.0000000|267|\n",
                "|4|1|4|2019-02-13 07:01:26.0000000|332|\n",
                "|5|1|7|2019-02-13 07:01:57.0000000|10|\n",
                "|6|1|7|2019-02-13 07:02:16.0000000|10|\n",
                "|7|1|4|2019-02-13 07:03:54.0000000|332|\n",
                "|8|1|4|2019-02-13 07:05:52.0000000|332|\n",
                "|9|1|7|2019-02-13 07:32:51.0000000|114|\n",
                "|10|1|7|2019-02-13 07:35:12.0000000|114|\n",
                "\n",
                "<br/>\n",
                "\n",
                "|id|WorkstationGroupID|begin_date_time|end_date_time|OperatorID|basket_size|t_cash|t_card|amount|\n",
                "|---|---|---|---|---|---|---|---|---|\n",
                "|1|1|2017-12-07 14:23:23.0000000|2017-12-07 14:24:36.0000000|101|23|1|0|112.71|\n",
                "|2|1|2017-12-07 14:25:09.0000000|2017-12-07 14:27:00.0000000|101|29|1|0|54.76|\n",
                "|3|1|2017-12-07 14:27:28.0000000|2017-12-07 14:27:48.0000000|101|3|1|0|14.77|\n",
                "|4|1|2017-12-07 14:28:04.0000000|2017-12-07 14:28:29.0000000|101|12|1|0|37.88|\n",
                "|5|1|2017-12-07 14:29:40.0000000|2017-12-07 14:30:32.0000000|101|7|1|0|115.34|\n",
                "|6|1|2017-12-07 14:31:03.0000000|2017-12-07 14:32:01.0000000|101|12|0|1|232.89|\n",
                "|7|1|2017-12-07 14:32:25.0000000|2017-12-07 14:36:03.0000000|101|36|1|0|183.15|\n",
                "|8|1|2017-12-07 14:36:32.0000000|2017-12-07 14:37:15.0000000|101|10|1|0|39.68|\n",
                "|9|1|2017-12-07 14:37:31.0000000|2017-12-07 14:38:07.0000000|101|15|1|0|44.53|\n",
                "|10|1|2017-12-07 14:38:21.0000000|2017-12-07 14:39:12.0000000|101|15|0|1|42.73|\n"
            ]
        },
        {
            "cell_type": "code",
            "execution_count": 3,
            "metadata": {
                "azdata_cell_guid": "0f504afd-657f-4feb-81a1-4ed2a8875b52",
                "language": "sql"
            },
            "outputs": [
                {
                    "data": {
                        "text/html": [
                            "(1 row affected)"
                        ]
                    },
                    "metadata": {},
                    "output_type": "display_data"
                },
                {
                    "data": {
                        "text/html": [
                            "Total execution time: 00:00:00.131"
                        ]
                    },
                    "metadata": {},
                    "output_type": "display_data"
                },
                {
                    "data": {
                        "application/vnd.dataresource+json": {
                            "data": [
                                {
                                    "0": "2017-12-07 06:26:26.0000000",
                                    "1": "2019-04-10 22:08:55.0000000"
                                }
                            ],
                            "schema": {
                                "fields": [
                                    {
                                        "name": "start_time"
                                    },
                                    {
                                        "name": "end_time"
                                    }
                                ]
                            }
                        },
                        "text/html": [
                            "<table>\n",
                            "<tr><th>start_time</th><th>end_time</th></tr>\n",
                            "<tr><td>2017-12-07 06:26:26.0000000</td><td>2019-04-10 22:08:55.0000000</td></tr>\n",
                            "</table>"
                        ]
                    },
                    "execution_count": 3,
                    "metadata": {},
                    "output_type": "execute_result"
                }
            ],
            "source": [
                "SELECT \n",
                "MIN(begin_date_time) AS start_time, \n",
                "MAX(end_date_time) AS end_time\n",
                "FROM pos_transactions;"
            ]
        },
        {
            "attachments": {},
            "cell_type": "markdown",
            "metadata": {},
            "source": [
                "|start_time|end_time|\n",
                "|---|---|\n",
                "|2017-12-07 06:26:26.0000000|2019-04-10 22:08:55.0000000|"
            ]
        },
        {
            "attachments": {},
            "cell_type": "markdown",
            "metadata": {
                "azdata_cell_guid": "0b522796-4bca-47df-a68a-29f4fb6e8122"
            },
            "source": [
                "- Data is stored from 2017-12-07 to 2019-04-10."
            ]
        },
        {
            "cell_type": "code",
            "execution_count": 4,
            "metadata": {
                "azdata_cell_guid": "f4e66067-5474-4775-b22d-b6a12a664c48",
                "language": "sql"
            },
            "outputs": [
                {
                    "data": {
                        "text/html": [
                            "(2 rows affected)"
                        ]
                    },
                    "metadata": {},
                    "output_type": "display_data"
                },
                {
                    "data": {
                        "text/html": [
                            "Total execution time: 00:00:00.064"
                        ]
                    },
                    "metadata": {},
                    "output_type": "display_data"
                },
                {
                    "data": {
                        "application/vnd.dataresource+json": {
                            "data": [
                                {
                                    "0": "2017",
                                    "1": "5055633.62"
                                },
                                {
                                    "0": "2019",
                                    "1": "6802821.39"
                                }
                            ],
                            "schema": {
                                "fields": [
                                    {
                                        "name": "year_No"
                                    },
                                    {
                                        "name": "year_total_amount"
                                    }
                                ]
                            }
                        },
                        "text/html": [
                            "<table>\n",
                            "<tr><th>year_No</th><th>year_total_amount</th></tr>\n",
                            "<tr><td>2017</td><td>5055633.62</td></tr>\n",
                            "<tr><td>2019</td><td>6802821.39</td></tr>\n",
                            "</table>"
                        ]
                    },
                    "execution_count": 4,
                    "metadata": {},
                    "output_type": "execute_result"
                }
            ],
            "source": [
                "SELECT\n",
                "YEAR(end_date_time) AS year_No,\n",
                "ROUND(SUM(amount), 2) AS year_total_amount\n",
                "FROM pos_transactions\n",
                "GROUP BY YEAR(end_date_time)\n",
                "ORDER BY year_No;"
            ]
        },
        {
            "attachments": {},
            "cell_type": "markdown",
            "metadata": {},
            "source": [
                "|year_No|year_total_amount|\n",
                "|---|---|\n",
                "|2017|5055633.62|\n",
                "|2019|6802821.39|\n"
            ]
        },
        {
            "attachments": {},
            "cell_type": "markdown",
            "metadata": {
                "azdata_cell_guid": "32033cd3-e77f-47bd-84d3-8c79158ead1d"
            },
            "source": [
                "- The supermarket operated in 2017 and 2019, closed in 2018.\n",
                "\n",
                "- Total revenue for two years is about $11858454,&nbsp;in which revenue in 2019 is higher than 2017."
            ]
        },
        {
            "attachments": {},
            "cell_type": "markdown",
            "metadata": {
                "azdata_cell_guid": "b5f9e1ab-a14e-4f95-8657-4dae0b170e9e"
            },
            "source": [
                "## 2. Transactions method:"
            ]
        },
        {
            "cell_type": "code",
            "execution_count": 7,
            "metadata": {
                "azdata_cell_guid": "91d81ea4-ecf3-4f85-abe5-5da5c4161d3b",
                "language": "sql"
            },
            "outputs": [
                {
                    "data": {
                        "text/html": [
                            "(1 row affected)"
                        ]
                    },
                    "metadata": {},
                    "output_type": "display_data"
                },
                {
                    "data": {
                        "text/html": [
                            "Total execution time: 00:00:00.050"
                        ]
                    },
                    "metadata": {},
                    "output_type": "display_data"
                },
                {
                    "data": {
                        "application/vnd.dataresource+json": {
                            "data": [
                                {
                                    "0": "78246",
                                    "1": "84487"
                                }
                            ],
                            "schema": {
                                "fields": [
                                    {
                                        "name": "Card_transaction"
                                    },
                                    {
                                        "name": "Cash_transaction"
                                    }
                                ]
                            }
                        },
                        "text/html": [
                            "<table>\n",
                            "<tr><th>Card_transaction</th><th>Cash_transaction</th></tr>\n",
                            "<tr><td>78246</td><td>84487</td></tr>\n",
                            "</table>"
                        ]
                    },
                    "execution_count": 7,
                    "metadata": {},
                    "output_type": "execute_result"
                }
            ],
            "source": [
                "WITH card_count AS (\n",
                "SELECT COUNT(*) AS Card_transaction\n",
                "FROM pos_transactions\n",
                "WHERE t_card = 1)\n",
                ",\n",
                "cash_count AS (\n",
                "SELECT COUNT(*) AS Cash_transaction\n",
                "FROM pos_transactions\n",
                "WHERE t_cash = 1)\n",
                "\n",
                "SELECT *\n",
                "FROM card_count\n",
                "CROSS JOIN cash_count;"
            ]
        },
        {
            "attachments": {},
            "cell_type": "markdown",
            "metadata": {},
            "source": [
                "|Card_transaction|Cash_transaction|\n",
                "|---|---|\n",
                "|78246|84487|"
            ]
        },
        {
            "attachments": {},
            "cell_type": "markdown",
            "metadata": {
                "azdata_cell_guid": "8c9db400-30f6-4667-b1bf-58dc58a802e6"
            },
            "source": [
                "- Customers prefer to pay by cash for purchases rather than by card.\n",
                "\n",
                "<br/>\n",
                "\n",
                "+ Suggestion:\n",
                "\n",
                " --> Shop logistics should arrange more cash registers."
            ]
        },
        {
            "attachments": {},
            "cell_type": "markdown",
            "metadata": {
                "azdata_cell_guid": "e6e02162-b569-49cb-902e-27542dee31eb"
            },
            "source": [
                "## 3. Amount spent per transaction using card versus cash:"
            ]
        },
        {
            "cell_type": "code",
            "execution_count": 8,
            "metadata": {
                "azdata_cell_guid": "6a787fab-8477-4e0e-bfd2-a648d625f99c",
                "language": "sql"
            },
            "outputs": [
                {
                    "data": {
                        "text/html": [
                            "Warning: Null value is eliminated by an aggregate or other SET operation."
                        ]
                    },
                    "metadata": {},
                    "output_type": "display_data"
                },
                {
                    "data": {
                        "text/html": [
                            "(1 row affected)"
                        ]
                    },
                    "metadata": {},
                    "output_type": "display_data"
                },
                {
                    "data": {
                        "text/html": [
                            "Total execution time: 00:00:00.059"
                        ]
                    },
                    "metadata": {},
                    "output_type": "display_data"
                },
                {
                    "data": {
                        "application/vnd.dataresource+json": {
                            "data": [
                                {
                                    "0": "86.84",
                                    "1": "58.72"
                                }
                            ],
                            "schema": {
                                "fields": [
                                    {
                                        "name": "avg_card_trans"
                                    },
                                    {
                                        "name": "avg_cash_trans"
                                    }
                                ]
                            }
                        },
                        "text/html": [
                            "<table>\n",
                            "<tr><th>avg_card_trans</th><th>avg_cash_trans</th></tr>\n",
                            "<tr><td>86.84</td><td>58.72</td></tr>\n",
                            "</table>"
                        ]
                    },
                    "execution_count": 8,
                    "metadata": {},
                    "output_type": "execute_result"
                }
            ],
            "source": [
                "SELECT\n",
                "ROUND(AVG(CASE WHEN t_card = 1 AND t_cash = 0 THEN amount END),2) AS avg_card_trans,\n",
                "ROUND(AVG(CASE WHEN t_cash = 1 AND t_card = 0 THEN amount END),2) AS avg_cash_trans\n",
                "FROM pos_transactions;"
            ]
        },
        {
            "attachments": {},
            "cell_type": "markdown",
            "metadata": {},
            "source": [
                "|avg_card_trans|avg_cash_trans|\n",
                "|---|---|\n",
                "|86.84|58.72|"
            ]
        },
        {
            "attachments": {},
            "cell_type": "markdown",
            "metadata": {
                "azdata_cell_guid": "ead90fc7-4de6-4bf6-88d8-360b3664d442"
            },
            "source": [
                "- Customers paying by card spend more than customers paying with cash ($86.84 vs $58.72 in average).\n",
                "\n",
                "<br/>\n",
                "\n",
                "+ Suggestion:\n",
                "\n",
                "--> Arranging security on card payment.\n",
                "\n",
                "--> Marketing to encourage shoppers to use cash payment."
            ]
        },
        {
            "attachments": {},
            "cell_type": "markdown",
            "metadata": {
                "azdata_cell_guid": "aacfb55f-b0b4-4cad-afeb-4b3a7d786ed8"
            },
            "source": [
                "## 4. Exploring Sunday shopping:"
            ]
        },
        {
            "cell_type": "code",
            "execution_count": 9,
            "metadata": {
                "azdata_cell_guid": "f6594cbf-dfb3-464d-998d-e6964b1d8467",
                "language": "sql"
            },
            "outputs": [
                {
                    "data": {
                        "text/html": [
                            "(4 rows affected)"
                        ]
                    },
                    "metadata": {},
                    "output_type": "display_data"
                },
                {
                    "data": {
                        "text/html": [
                            "Total execution time: 00:00:00.076"
                        ]
                    },
                    "metadata": {},
                    "output_type": "display_data"
                },
                {
                    "data": {
                        "application/vnd.dataresource+json": {
                            "data": [
                                {
                                    "0": "2017-12-10",
                                    "1": "Sunday",
                                    "2": "276343.6000000002"
                                },
                                {
                                    "0": "2017-12-17",
                                    "1": "Sunday",
                                    "2": "344041.41000000015"
                                },
                                {
                                    "0": "2019-02-24",
                                    "1": "Sunday",
                                    "2": "143025.41000000012"
                                },
                                {
                                    "0": "2019-03-31",
                                    "1": "Sunday",
                                    "2": "169698.48000000019"
                                }
                            ],
                            "schema": {
                                "fields": [
                                    {
                                        "name": "Sunday_date"
                                    },
                                    {
                                        "name": "date_name"
                                    },
                                    {
                                        "name": "total_amount"
                                    }
                                ]
                            }
                        },
                        "text/html": [
                            "<table>\n",
                            "<tr><th>Sunday_date</th><th>date_name</th><th>total_amount</th></tr>\n",
                            "<tr><td>2017-12-10</td><td>Sunday</td><td>276343.6000000002</td></tr>\n",
                            "<tr><td>2017-12-17</td><td>Sunday</td><td>344041.41000000015</td></tr>\n",
                            "<tr><td>2019-02-24</td><td>Sunday</td><td>143025.41000000012</td></tr>\n",
                            "<tr><td>2019-03-31</td><td>Sunday</td><td>169698.48000000019</td></tr>\n",
                            "</table>"
                        ]
                    },
                    "execution_count": 9,
                    "metadata": {},
                    "output_type": "execute_result"
                }
            ],
            "source": [
                "SELECT \n",
                "CAST(end_date_time AS DATE) AS Sunday_date, \n",
                "[date_name], \n",
                "ROUND(SUM(amount), 2) AS total_amount\n",
                "FROM (SELECT \n",
                "      end_date_time,\n",
                "      DATENAME(dw,end_date_time) AS date_name, \n",
                "      amount\n",
                "      FROM pos_transactions\n",
                "      WHERE DATENAME(dw,end_date_time) = 'Sunday') a\n",
                "GROUP BY CAST(end_date_time AS DATE), date_name;"
            ]
        },
        {
            "attachments": {},
            "cell_type": "markdown",
            "metadata": {},
            "source": [
                "|Sunday_date|date_name|total_amount|\n",
                "|---|---|---|\n",
                "|2017-12-10|Sunday|276343.6|\n",
                "|2017-12-17|Sunday|344041.41|\n",
                "|2019-02-24|Sunday|143025.41|\n",
                "|2019-03-31|Sunday|169698.48|\n"
            ]
        },
        {
            "attachments": {},
            "cell_type": "markdown",
            "metadata": {
                "azdata_cell_guid": "d55b91ac-d321-40be-9f74-f63d5ef07255"
            },
            "source": [
                "- Supermarket closed in Sundays of 2018.\n",
                "\n",
                "- Supermarket sales on the last Sundays of 2017 are 2 times higher than those on the first Sundays of 2019."
            ]
        },
        {
            "attachments": {},
            "cell_type": "markdown",
            "metadata": {
                "azdata_cell_guid": "e131fd0e-e10e-457f-972d-c68745e64207"
            },
            "source": [
                "## 5. Daily trends analysis:"
            ]
        },
        {
            "cell_type": "code",
            "execution_count": 11,
            "metadata": {
                "azdata_cell_guid": "3e92143f-1a3d-425e-a57d-2a4d5220fd0e",
                "language": "sql"
            },
            "outputs": [
                {
                    "data": {
                        "text/html": [
                            "(7 rows affected)"
                        ]
                    },
                    "metadata": {},
                    "output_type": "display_data"
                },
                {
                    "data": {
                        "text/html": [
                            "Total execution time: 00:00:00.072"
                        ]
                    },
                    "metadata": {},
                    "output_type": "display_data"
                },
                {
                    "data": {
                        "application/vnd.dataresource+json": {
                            "data": [
                                {
                                    "0": "Saturday",
                                    "1": "430575.4",
                                    "2": "4955"
                                },
                                {
                                    "0": "Friday",
                                    "1": "362678.52",
                                    "2": "4476"
                                },
                                {
                                    "0": "Thursday",
                                    "1": "342443.86",
                                    "2": "4565"
                                },
                                {
                                    "0": "Wednesday",
                                    "1": "239650.56",
                                    "2": "3506"
                                },
                                {
                                    "0": "Monday",
                                    "1": "233179.88",
                                    "2": "3615"
                                },
                                {
                                    "0": "Tuesday",
                                    "1": "224894.17",
                                    "2": "3397"
                                },
                                {
                                    "0": "Sunday",
                                    "1": "169698.48",
                                    "2": "2324"
                                }
                            ],
                            "schema": {
                                "fields": [
                                    {
                                        "name": "day_name"
                                    },
                                    {
                                        "name": "max_amount"
                                    },
                                    {
                                        "name": "max_transaction"
                                    }
                                ]
                            }
                        },
                        "text/html": [
                            "<table>\n",
                            "<tr><th>day_name</th><th>max_amount</th><th>max_transaction</th></tr>\n",
                            "<tr><td>Saturday</td><td>430575.4</td><td>4955</td></tr>\n",
                            "<tr><td>Friday</td><td>362678.52</td><td>4476</td></tr>\n",
                            "<tr><td>Thursday</td><td>342443.86</td><td>4565</td></tr>\n",
                            "<tr><td>Wednesday</td><td>239650.56</td><td>3506</td></tr>\n",
                            "<tr><td>Monday</td><td>233179.88</td><td>3615</td></tr>\n",
                            "<tr><td>Tuesday</td><td>224894.17</td><td>3397</td></tr>\n",
                            "<tr><td>Sunday</td><td>169698.48</td><td>2324</td></tr>\n",
                            "</table>"
                        ]
                    },
                    "execution_count": 11,
                    "metadata": {},
                    "output_type": "execute_result"
                }
            ],
            "source": [
                "WITH cte_a AS (\n",
                "SELECT\n",
                "DATEPART(WEEK, CONVERT(DATE,end_date_time)) AS Week_No,\n",
                "CONVERT(DATE, end_date_time) AS end_date,\n",
                "DATENAME(DW, CONVERT(DATE, end_date_time)) AS day_name,\n",
                "COUNT(id) AS total_transaction,\n",
                "SUM(amount) AS total_amount,\n",
                "AVG(amount) AS avg_amount\n",
                "FROM pos_transactions\n",
                "WHERE YEAR(end_date_time) >= 2019\n",
                "GROUP BY CONVERT(DATE, end_date_time)\n",
                ")\n",
                "\n",
                "SELECT \n",
                "day_name, \n",
                "ROUND(MAX(total_amount),2) AS max_amount, \n",
                "MAX(total_transaction) AS max_transaction\n",
                "FROM cte_a\n",
                "GROUP BY day_name\n",
                "ORDER BY max_amount DESC, max_transaction;"
            ]
        },
        {
            "attachments": {},
            "cell_type": "markdown",
            "metadata": {},
            "source": [
                "|day_name|max_amount|max_transaction|\n",
                "|---|---|---|\n",
                "|Saturday|430575.4|4955|\n",
                "|Friday|362678.52|4476|\n",
                "|Thursday|342443.86|4565|\n",
                "|Wednesday|239650.56|3506|\n",
                "|Monday|233179.88|3615|\n",
                "|Tuesday|224894.17|3397|\n",
                "|Sunday|169698.48|2324|\n"
            ]
        },
        {
            "attachments": {},
            "cell_type": "markdown",
            "metadata": {
                "azdata_cell_guid": "b24b4482-f740-4c8d-a2d0-a346e950ef0c"
            },
            "source": [
                "- Customers shop a lot on Thursdays, Fridays, and Saturdays.\n",
                "\n",
                "- Saturdays have the highest amount of purchases compared to the rest of the week.\n",
                "\n",
                "- Sundays have the least amount of shopping.\n",
                "\n",
                "<br/>\n",
                "\n",
                "+ Suggestion:\n",
                "\n",
                "--> Creating more promotions on Sundays.\n",
                "\n",
                "--> Arranging more personnel on weekends."
            ]
        },
        {
            "attachments": {},
            "cell_type": "markdown",
            "metadata": {
                "azdata_cell_guid": "ce92a9f2-a1e0-4628-b371-ee3d61c28528"
            },
            "source": [
                "## 6. Number of employees analysis:"
            ]
        },
        {
            "cell_type": "code",
            "execution_count": 14,
            "metadata": {
                "azdata_cell_guid": "46d00746-8cd2-4710-8a9a-f30a4fd68d0d",
                "language": "sql"
            },
            "outputs": [
                {
                    "data": {
                        "text/html": [
                            "Commands completed successfully."
                        ]
                    },
                    "metadata": {},
                    "output_type": "display_data"
                },
                {
                    "data": {
                        "text/html": [
                            "Commands completed successfully."
                        ]
                    },
                    "metadata": {},
                    "output_type": "display_data"
                },
                {
                    "data": {
                        "text/html": [
                            "(4 rows affected)"
                        ]
                    },
                    "metadata": {},
                    "output_type": "display_data"
                },
                {
                    "data": {
                        "text/html": [
                            "Total execution time: 00:00:00.059"
                        ]
                    },
                    "metadata": {},
                    "output_type": "display_data"
                },
                {
                    "data": {
                        "application/vnd.dataresource+json": {
                            "data": [
                                {
                                    "0": "Friday",
                                    "1": "27",
                                    "2": "1"
                                },
                                {
                                    "0": "Saturday",
                                    "1": "28",
                                    "2": "1"
                                },
                                {
                                    "0": "Sunday",
                                    "1": "20",
                                    "2": "1"
                                },
                                {
                                    "0": "Thursday",
                                    "1": "29",
                                    "2": "1"
                                }
                            ],
                            "schema": {
                                "fields": [
                                    {
                                        "name": "Weekday_name"
                                    },
                                    {
                                        "name": "total_labor"
                                    },
                                    {
                                        "name": "Ranking"
                                    }
                                ]
                            }
                        },
                        "text/html": [
                            "<table>\n",
                            "<tr><th>Weekday_name</th><th>total_labor</th><th>Ranking</th></tr>\n",
                            "<tr><td>Friday</td><td>27</td><td>1</td></tr>\n",
                            "<tr><td>Saturday</td><td>28</td><td>1</td></tr>\n",
                            "<tr><td>Sunday</td><td>20</td><td>1</td></tr>\n",
                            "<tr><td>Thursday</td><td>29</td><td>1</td></tr>\n",
                            "</table>"
                        ]
                    },
                    "execution_count": 14,
                    "metadata": {},
                    "output_type": "execute_result"
                }
            ],
            "source": [
                "DROP VIEW labor;\n",
                "\n",
                "GO\n",
                "\n",
                "CREATE VIEW labor AS \n",
                "SELECT\n",
                "CONVERT(DATE, begin_date_time) AS Shopping_date,\n",
                "DATENAME(DW, CONVERT(DATE, begin_date_time)) AS Weekday_name,\n",
                "COUNT(DISTINCT OperatorID) AS total_labor\n",
                "FROm pos_transactions\n",
                "GROUP BY CONVERT(DATE, begin_date_time);\n",
                "\n",
                "GO\n",
                "\n",
                "SELECT *\n",
                "FROM (SELECT \n",
                "     Weekday_name, \n",
                "     total_labor, \n",
                "     RANK() OVER (PARTITION BY Weekday_name ORDER BY total_labor DESC) AS Ranking\n",
                "     FROM labor\n",
                "     WHERE Weekday_name IN ('Thursday', 'Friday', 'Saturday', 'Sunday')\n",
                ") b\n",
                "WHERE Ranking = 1"
            ]
        },
        {
            "attachments": {},
            "cell_type": "markdown",
            "metadata": {},
            "source": [
                "|Weekday_name|total_labor|Ranking|\n",
                "|---|---|---|\n",
                "|Friday|27|1|\n",
                "|Saturday|28|1|\n",
                "|Sunday|20|1|\n",
                "|Thursday|29|1|\n"
            ]
        },
        {
            "attachments": {},
            "cell_type": "markdown",
            "metadata": {
                "azdata_cell_guid": "d9db8f5f-6a20-48c0-997e-a212fa53317a"
            },
            "source": [
                "- Although Saturdays are the days with the highest shopping volume, the number of employees is lower than Thursdays and Fridays. While Sundays have less shopping, supermarket has a lot of staff.</span>\n",
                "\n",
                "<br/>\n",
                "\n",
                "+ Suggestion:\n",
                "\n",
                "--> Arranging more staff on Saturdays, reducing the number of staff on Sundays."
            ]
        },
        {
            "attachments": {},
            "cell_type": "markdown",
            "metadata": {
                "azdata_cell_guid": "21fae974-41b4-4107-bab7-e4474c17842a"
            },
            "source": [
                "# Conclusion:"
            ]
        },
        {
            "attachments": {},
            "cell_type": "markdown",
            "metadata": {
                "azdata_cell_guid": "4728848d-f10e-4fcc-b088-2742f09ef677"
            },
            "source": [
                "The shop's logistics department should increase the number of cash registers available to accommodate more customers. It is important to ensure proper security measures are in place for card payments. The marketing team should focus on promoting the use of cash payments among shoppers. Additionally, creating attractive promotions specifically for Sundays can help attract more customers on that day. To handle the higher customer traffic during weekends, it is advisable to schedule additional personnel. Specifically, more staff should be assigned on Saturdays, while reducing the number of staff on Sundays."
            ]
        }
    ],
    "metadata": {
        "kernelspec": {
            "display_name": "SQL",
            "language": "sql",
            "name": "SQL"
        },
        "language_info": {
            "name": "sql",
            "version": ""
        }
    },
    "nbformat": 4,
    "nbformat_minor": 2
}
