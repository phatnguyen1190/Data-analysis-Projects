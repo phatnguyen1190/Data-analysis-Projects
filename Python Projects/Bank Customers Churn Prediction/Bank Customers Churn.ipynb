{
  "nbformat": 4,
  "nbformat_minor": 0,
  "metadata": {
    "colab": {
      "provenance": [],
      "collapsed_sections": [
        "zdqDFuPRdoJf",
        "u5EiSJ5Cdt6B"
      ]
    },
    "kernelspec": {
      "name": "python3",
      "display_name": "Python 3"
    },
    "language_info": {
      "name": "python"
    },
    "accelerator": "GPU",
    "gpuClass": "standard"
  },
  "cells": [
    {
      "cell_type": "markdown",
      "source": [
        "# Import data"
      ],
      "metadata": {
        "id": "MYVht19M4VYq"
      }
    },
    {
      "cell_type": "code",
      "execution_count": null,
      "metadata": {
        "id": "Vmc8jG62NvPh"
      },
      "outputs": [],
      "source": [
        "# Import thư viện\n",
        "import numpy as np\n",
        "import pandas as pd\n",
        "import matplotlib.pyplot as plt\n",
        "import seaborn as sns"
      ]
    },
    {
      "cell_type": "code",
      "source": [
        "# Import data\n",
        "link = \"https://drive.google.com/file/d/12WAiv84l9JVTIPG97t_tq2Kr3h0DvZCi/view?usp=share_link\"\n",
        "path = 'https://drive.google.com/uc?export=download&id='+link.split('/')[-2]\n",
        "data = pd.read_csv(path)"
      ],
      "metadata": {
        "id": "zBK7aW8mN_k8"
      },
      "execution_count": null,
      "outputs": []
    },
    {
      "cell_type": "code",
      "source": [
        "# Show 5 dòng đầu tiên\n",
        "data.head()"
      ],
      "metadata": {
        "colab": {
          "base_uri": "https://localhost:8080/",
          "height": 206
        },
        "id": "pXbpDnLMOz9S",
        "outputId": "f92eb33b-1a2b-42c4-ee65-e193c16b7837"
      },
      "execution_count": null,
      "outputs": [
        {
          "output_type": "execute_result",
          "data": {
            "text/plain": [
              "   RowNumber  CustomerId   Surname  CreditScore Geography  Gender  Age  \\\n",
              "0          1    15634602  Hargrave          619    France  Female   42   \n",
              "1          2    15647311      Hill          608     Spain  Female   41   \n",
              "2          3    15619304      Onio          502    France  Female   42   \n",
              "3          4    15701354      Boni          699    France  Female   39   \n",
              "4          5    15737888  Mitchell          850     Spain  Female   43   \n",
              "\n",
              "   Tenure    Balance  NumOfProducts HasCrCard IsActiveMember  EstimatedSalary  \\\n",
              "0       2       0.00              1       Yes            Yes        101348.88   \n",
              "1       1   83807.86              1        No            Yes        112542.58   \n",
              "2       8  159660.80              3       Yes             No        113931.57   \n",
              "3       1       0.00              2        No             No         93826.63   \n",
              "4       2  125510.82              1       Yes            Yes         79084.10   \n",
              "\n",
              "  Exited  \n",
              "0    Yes  \n",
              "1     No  \n",
              "2    Yes  \n",
              "3     No  \n",
              "4     No  "
            ],
            "text/html": [
              "\n",
              "  <div id=\"df-fa8b4cb1-630b-497d-93dc-0d60af516f01\">\n",
              "    <div class=\"colab-df-container\">\n",
              "      <div>\n",
              "<style scoped>\n",
              "    .dataframe tbody tr th:only-of-type {\n",
              "        vertical-align: middle;\n",
              "    }\n",
              "\n",
              "    .dataframe tbody tr th {\n",
              "        vertical-align: top;\n",
              "    }\n",
              "\n",
              "    .dataframe thead th {\n",
              "        text-align: right;\n",
              "    }\n",
              "</style>\n",
              "<table border=\"1\" class=\"dataframe\">\n",
              "  <thead>\n",
              "    <tr style=\"text-align: right;\">\n",
              "      <th></th>\n",
              "      <th>RowNumber</th>\n",
              "      <th>CustomerId</th>\n",
              "      <th>Surname</th>\n",
              "      <th>CreditScore</th>\n",
              "      <th>Geography</th>\n",
              "      <th>Gender</th>\n",
              "      <th>Age</th>\n",
              "      <th>Tenure</th>\n",
              "      <th>Balance</th>\n",
              "      <th>NumOfProducts</th>\n",
              "      <th>HasCrCard</th>\n",
              "      <th>IsActiveMember</th>\n",
              "      <th>EstimatedSalary</th>\n",
              "      <th>Exited</th>\n",
              "    </tr>\n",
              "  </thead>\n",
              "  <tbody>\n",
              "    <tr>\n",
              "      <th>0</th>\n",
              "      <td>1</td>\n",
              "      <td>15634602</td>\n",
              "      <td>Hargrave</td>\n",
              "      <td>619</td>\n",
              "      <td>France</td>\n",
              "      <td>Female</td>\n",
              "      <td>42</td>\n",
              "      <td>2</td>\n",
              "      <td>0.00</td>\n",
              "      <td>1</td>\n",
              "      <td>Yes</td>\n",
              "      <td>Yes</td>\n",
              "      <td>101348.88</td>\n",
              "      <td>Yes</td>\n",
              "    </tr>\n",
              "    <tr>\n",
              "      <th>1</th>\n",
              "      <td>2</td>\n",
              "      <td>15647311</td>\n",
              "      <td>Hill</td>\n",
              "      <td>608</td>\n",
              "      <td>Spain</td>\n",
              "      <td>Female</td>\n",
              "      <td>41</td>\n",
              "      <td>1</td>\n",
              "      <td>83807.86</td>\n",
              "      <td>1</td>\n",
              "      <td>No</td>\n",
              "      <td>Yes</td>\n",
              "      <td>112542.58</td>\n",
              "      <td>No</td>\n",
              "    </tr>\n",
              "    <tr>\n",
              "      <th>2</th>\n",
              "      <td>3</td>\n",
              "      <td>15619304</td>\n",
              "      <td>Onio</td>\n",
              "      <td>502</td>\n",
              "      <td>France</td>\n",
              "      <td>Female</td>\n",
              "      <td>42</td>\n",
              "      <td>8</td>\n",
              "      <td>159660.80</td>\n",
              "      <td>3</td>\n",
              "      <td>Yes</td>\n",
              "      <td>No</td>\n",
              "      <td>113931.57</td>\n",
              "      <td>Yes</td>\n",
              "    </tr>\n",
              "    <tr>\n",
              "      <th>3</th>\n",
              "      <td>4</td>\n",
              "      <td>15701354</td>\n",
              "      <td>Boni</td>\n",
              "      <td>699</td>\n",
              "      <td>France</td>\n",
              "      <td>Female</td>\n",
              "      <td>39</td>\n",
              "      <td>1</td>\n",
              "      <td>0.00</td>\n",
              "      <td>2</td>\n",
              "      <td>No</td>\n",
              "      <td>No</td>\n",
              "      <td>93826.63</td>\n",
              "      <td>No</td>\n",
              "    </tr>\n",
              "    <tr>\n",
              "      <th>4</th>\n",
              "      <td>5</td>\n",
              "      <td>15737888</td>\n",
              "      <td>Mitchell</td>\n",
              "      <td>850</td>\n",
              "      <td>Spain</td>\n",
              "      <td>Female</td>\n",
              "      <td>43</td>\n",
              "      <td>2</td>\n",
              "      <td>125510.82</td>\n",
              "      <td>1</td>\n",
              "      <td>Yes</td>\n",
              "      <td>Yes</td>\n",
              "      <td>79084.10</td>\n",
              "      <td>No</td>\n",
              "    </tr>\n",
              "  </tbody>\n",
              "</table>\n",
              "</div>\n",
              "      <button class=\"colab-df-convert\" onclick=\"convertToInteractive('df-fa8b4cb1-630b-497d-93dc-0d60af516f01')\"\n",
              "              title=\"Convert this dataframe to an interactive table.\"\n",
              "              style=\"display:none;\">\n",
              "        \n",
              "  <svg xmlns=\"http://www.w3.org/2000/svg\" height=\"24px\"viewBox=\"0 0 24 24\"\n",
              "       width=\"24px\">\n",
              "    <path d=\"M0 0h24v24H0V0z\" fill=\"none\"/>\n",
              "    <path d=\"M18.56 5.44l.94 2.06.94-2.06 2.06-.94-2.06-.94-.94-2.06-.94 2.06-2.06.94zm-11 1L8.5 8.5l.94-2.06 2.06-.94-2.06-.94L8.5 2.5l-.94 2.06-2.06.94zm10 10l.94 2.06.94-2.06 2.06-.94-2.06-.94-.94-2.06-.94 2.06-2.06.94z\"/><path d=\"M17.41 7.96l-1.37-1.37c-.4-.4-.92-.59-1.43-.59-.52 0-1.04.2-1.43.59L10.3 9.45l-7.72 7.72c-.78.78-.78 2.05 0 2.83L4 21.41c.39.39.9.59 1.41.59.51 0 1.02-.2 1.41-.59l7.78-7.78 2.81-2.81c.8-.78.8-2.07 0-2.86zM5.41 20L4 18.59l7.72-7.72 1.47 1.35L5.41 20z\"/>\n",
              "  </svg>\n",
              "      </button>\n",
              "      \n",
              "  <style>\n",
              "    .colab-df-container {\n",
              "      display:flex;\n",
              "      flex-wrap:wrap;\n",
              "      gap: 12px;\n",
              "    }\n",
              "\n",
              "    .colab-df-convert {\n",
              "      background-color: #E8F0FE;\n",
              "      border: none;\n",
              "      border-radius: 50%;\n",
              "      cursor: pointer;\n",
              "      display: none;\n",
              "      fill: #1967D2;\n",
              "      height: 32px;\n",
              "      padding: 0 0 0 0;\n",
              "      width: 32px;\n",
              "    }\n",
              "\n",
              "    .colab-df-convert:hover {\n",
              "      background-color: #E2EBFA;\n",
              "      box-shadow: 0px 1px 2px rgba(60, 64, 67, 0.3), 0px 1px 3px 1px rgba(60, 64, 67, 0.15);\n",
              "      fill: #174EA6;\n",
              "    }\n",
              "\n",
              "    [theme=dark] .colab-df-convert {\n",
              "      background-color: #3B4455;\n",
              "      fill: #D2E3FC;\n",
              "    }\n",
              "\n",
              "    [theme=dark] .colab-df-convert:hover {\n",
              "      background-color: #434B5C;\n",
              "      box-shadow: 0px 1px 3px 1px rgba(0, 0, 0, 0.15);\n",
              "      filter: drop-shadow(0px 1px 2px rgba(0, 0, 0, 0.3));\n",
              "      fill: #FFFFFF;\n",
              "    }\n",
              "  </style>\n",
              "\n",
              "      <script>\n",
              "        const buttonEl =\n",
              "          document.querySelector('#df-fa8b4cb1-630b-497d-93dc-0d60af516f01 button.colab-df-convert');\n",
              "        buttonEl.style.display =\n",
              "          google.colab.kernel.accessAllowed ? 'block' : 'none';\n",
              "\n",
              "        async function convertToInteractive(key) {\n",
              "          const element = document.querySelector('#df-fa8b4cb1-630b-497d-93dc-0d60af516f01');\n",
              "          const dataTable =\n",
              "            await google.colab.kernel.invokeFunction('convertToInteractive',\n",
              "                                                     [key], {});\n",
              "          if (!dataTable) return;\n",
              "\n",
              "          const docLinkHtml = 'Like what you see? Visit the ' +\n",
              "            '<a target=\"_blank\" href=https://colab.research.google.com/notebooks/data_table.ipynb>data table notebook</a>'\n",
              "            + ' to learn more about interactive tables.';\n",
              "          element.innerHTML = '';\n",
              "          dataTable['output_type'] = 'display_data';\n",
              "          await google.colab.output.renderOutput(dataTable, element);\n",
              "          const docLink = document.createElement('div');\n",
              "          docLink.innerHTML = docLinkHtml;\n",
              "          element.appendChild(docLink);\n",
              "        }\n",
              "      </script>\n",
              "    </div>\n",
              "  </div>\n",
              "  "
            ]
          },
          "metadata": {},
          "execution_count": 4
        }
      ]
    },
    {
      "cell_type": "code",
      "source": [
        "# Kiểm tra data type\n",
        "data.info()"
      ],
      "metadata": {
        "colab": {
          "base_uri": "https://localhost:8080/"
        },
        "id": "x-iumTDjO9ZZ",
        "outputId": "dd7c1d9a-8b97-4963-de59-878ec57c2e3c"
      },
      "execution_count": null,
      "outputs": [
        {
          "output_type": "stream",
          "name": "stdout",
          "text": [
            "<class 'pandas.core.frame.DataFrame'>\n",
            "RangeIndex: 10000 entries, 0 to 9999\n",
            "Data columns (total 14 columns):\n",
            " #   Column           Non-Null Count  Dtype  \n",
            "---  ------           --------------  -----  \n",
            " 0   RowNumber        10000 non-null  int64  \n",
            " 1   CustomerId       10000 non-null  int64  \n",
            " 2   Surname          10000 non-null  object \n",
            " 3   CreditScore      10000 non-null  int64  \n",
            " 4   Geography        10000 non-null  object \n",
            " 5   Gender           10000 non-null  object \n",
            " 6   Age              10000 non-null  int64  \n",
            " 7   Tenure           10000 non-null  int64  \n",
            " 8   Balance          10000 non-null  float64\n",
            " 9   NumOfProducts    10000 non-null  int64  \n",
            " 10  HasCrCard        10000 non-null  object \n",
            " 11  IsActiveMember   10000 non-null  object \n",
            " 12  EstimatedSalary  10000 non-null  float64\n",
            " 13  Exited           10000 non-null  object \n",
            "dtypes: float64(2), int64(6), object(6)\n",
            "memory usage: 1.1+ MB\n"
          ]
        }
      ]
    },
    {
      "cell_type": "code",
      "source": [
        "# Kiểm tra null\n",
        "data.isna().sum()"
      ],
      "metadata": {
        "colab": {
          "base_uri": "https://localhost:8080/"
        },
        "id": "SC72BFTiOVbV",
        "outputId": "8ad9f4c6-3211-447d-c8b8-31dbe1f0f52c"
      },
      "execution_count": null,
      "outputs": [
        {
          "output_type": "execute_result",
          "data": {
            "text/plain": [
              "RowNumber          0\n",
              "CustomerId         0\n",
              "Surname            0\n",
              "CreditScore        0\n",
              "Geography          0\n",
              "Gender             0\n",
              "Age                0\n",
              "Tenure             0\n",
              "Balance            0\n",
              "NumOfProducts      0\n",
              "HasCrCard          0\n",
              "IsActiveMember     0\n",
              "EstimatedSalary    0\n",
              "Exited             0\n",
              "dtype: int64"
            ]
          },
          "metadata": {},
          "execution_count": 6
        }
      ]
    },
    {
      "cell_type": "code",
      "source": [
        "# Xóa cột không cần thiết\n",
        "df = data.drop(['RowNumber','CustomerId','Surname'],axis = 1)"
      ],
      "metadata": {
        "id": "lLl2b3SNO_K1"
      },
      "execution_count": null,
      "outputs": []
    },
    {
      "cell_type": "code",
      "source": [
        "df.head()"
      ],
      "metadata": {
        "colab": {
          "base_uri": "https://localhost:8080/",
          "height": 206
        },
        "id": "Q17SC_UazEd1",
        "outputId": "84eaff90-7857-42e1-cf71-cd8042868cc1"
      },
      "execution_count": null,
      "outputs": [
        {
          "output_type": "execute_result",
          "data": {
            "text/plain": [
              "   CreditScore Geography  Gender  Age  Tenure    Balance  NumOfProducts  \\\n",
              "0          619    France  Female   42       2       0.00              1   \n",
              "1          608     Spain  Female   41       1   83807.86              1   \n",
              "2          502    France  Female   42       8  159660.80              3   \n",
              "3          699    France  Female   39       1       0.00              2   \n",
              "4          850     Spain  Female   43       2  125510.82              1   \n",
              "\n",
              "  HasCrCard IsActiveMember  EstimatedSalary Exited  \n",
              "0       Yes            Yes        101348.88    Yes  \n",
              "1        No            Yes        112542.58     No  \n",
              "2       Yes             No        113931.57    Yes  \n",
              "3        No             No         93826.63     No  \n",
              "4       Yes            Yes         79084.10     No  "
            ],
            "text/html": [
              "\n",
              "  <div id=\"df-d8ec0986-b23d-49a0-8c67-a07898ce47e9\">\n",
              "    <div class=\"colab-df-container\">\n",
              "      <div>\n",
              "<style scoped>\n",
              "    .dataframe tbody tr th:only-of-type {\n",
              "        vertical-align: middle;\n",
              "    }\n",
              "\n",
              "    .dataframe tbody tr th {\n",
              "        vertical-align: top;\n",
              "    }\n",
              "\n",
              "    .dataframe thead th {\n",
              "        text-align: right;\n",
              "    }\n",
              "</style>\n",
              "<table border=\"1\" class=\"dataframe\">\n",
              "  <thead>\n",
              "    <tr style=\"text-align: right;\">\n",
              "      <th></th>\n",
              "      <th>CreditScore</th>\n",
              "      <th>Geography</th>\n",
              "      <th>Gender</th>\n",
              "      <th>Age</th>\n",
              "      <th>Tenure</th>\n",
              "      <th>Balance</th>\n",
              "      <th>NumOfProducts</th>\n",
              "      <th>HasCrCard</th>\n",
              "      <th>IsActiveMember</th>\n",
              "      <th>EstimatedSalary</th>\n",
              "      <th>Exited</th>\n",
              "    </tr>\n",
              "  </thead>\n",
              "  <tbody>\n",
              "    <tr>\n",
              "      <th>0</th>\n",
              "      <td>619</td>\n",
              "      <td>France</td>\n",
              "      <td>Female</td>\n",
              "      <td>42</td>\n",
              "      <td>2</td>\n",
              "      <td>0.00</td>\n",
              "      <td>1</td>\n",
              "      <td>Yes</td>\n",
              "      <td>Yes</td>\n",
              "      <td>101348.88</td>\n",
              "      <td>Yes</td>\n",
              "    </tr>\n",
              "    <tr>\n",
              "      <th>1</th>\n",
              "      <td>608</td>\n",
              "      <td>Spain</td>\n",
              "      <td>Female</td>\n",
              "      <td>41</td>\n",
              "      <td>1</td>\n",
              "      <td>83807.86</td>\n",
              "      <td>1</td>\n",
              "      <td>No</td>\n",
              "      <td>Yes</td>\n",
              "      <td>112542.58</td>\n",
              "      <td>No</td>\n",
              "    </tr>\n",
              "    <tr>\n",
              "      <th>2</th>\n",
              "      <td>502</td>\n",
              "      <td>France</td>\n",
              "      <td>Female</td>\n",
              "      <td>42</td>\n",
              "      <td>8</td>\n",
              "      <td>159660.80</td>\n",
              "      <td>3</td>\n",
              "      <td>Yes</td>\n",
              "      <td>No</td>\n",
              "      <td>113931.57</td>\n",
              "      <td>Yes</td>\n",
              "    </tr>\n",
              "    <tr>\n",
              "      <th>3</th>\n",
              "      <td>699</td>\n",
              "      <td>France</td>\n",
              "      <td>Female</td>\n",
              "      <td>39</td>\n",
              "      <td>1</td>\n",
              "      <td>0.00</td>\n",
              "      <td>2</td>\n",
              "      <td>No</td>\n",
              "      <td>No</td>\n",
              "      <td>93826.63</td>\n",
              "      <td>No</td>\n",
              "    </tr>\n",
              "    <tr>\n",
              "      <th>4</th>\n",
              "      <td>850</td>\n",
              "      <td>Spain</td>\n",
              "      <td>Female</td>\n",
              "      <td>43</td>\n",
              "      <td>2</td>\n",
              "      <td>125510.82</td>\n",
              "      <td>1</td>\n",
              "      <td>Yes</td>\n",
              "      <td>Yes</td>\n",
              "      <td>79084.10</td>\n",
              "      <td>No</td>\n",
              "    </tr>\n",
              "  </tbody>\n",
              "</table>\n",
              "</div>\n",
              "      <button class=\"colab-df-convert\" onclick=\"convertToInteractive('df-d8ec0986-b23d-49a0-8c67-a07898ce47e9')\"\n",
              "              title=\"Convert this dataframe to an interactive table.\"\n",
              "              style=\"display:none;\">\n",
              "        \n",
              "  <svg xmlns=\"http://www.w3.org/2000/svg\" height=\"24px\"viewBox=\"0 0 24 24\"\n",
              "       width=\"24px\">\n",
              "    <path d=\"M0 0h24v24H0V0z\" fill=\"none\"/>\n",
              "    <path d=\"M18.56 5.44l.94 2.06.94-2.06 2.06-.94-2.06-.94-.94-2.06-.94 2.06-2.06.94zm-11 1L8.5 8.5l.94-2.06 2.06-.94-2.06-.94L8.5 2.5l-.94 2.06-2.06.94zm10 10l.94 2.06.94-2.06 2.06-.94-2.06-.94-.94-2.06-.94 2.06-2.06.94z\"/><path d=\"M17.41 7.96l-1.37-1.37c-.4-.4-.92-.59-1.43-.59-.52 0-1.04.2-1.43.59L10.3 9.45l-7.72 7.72c-.78.78-.78 2.05 0 2.83L4 21.41c.39.39.9.59 1.41.59.51 0 1.02-.2 1.41-.59l7.78-7.78 2.81-2.81c.8-.78.8-2.07 0-2.86zM5.41 20L4 18.59l7.72-7.72 1.47 1.35L5.41 20z\"/>\n",
              "  </svg>\n",
              "      </button>\n",
              "      \n",
              "  <style>\n",
              "    .colab-df-container {\n",
              "      display:flex;\n",
              "      flex-wrap:wrap;\n",
              "      gap: 12px;\n",
              "    }\n",
              "\n",
              "    .colab-df-convert {\n",
              "      background-color: #E8F0FE;\n",
              "      border: none;\n",
              "      border-radius: 50%;\n",
              "      cursor: pointer;\n",
              "      display: none;\n",
              "      fill: #1967D2;\n",
              "      height: 32px;\n",
              "      padding: 0 0 0 0;\n",
              "      width: 32px;\n",
              "    }\n",
              "\n",
              "    .colab-df-convert:hover {\n",
              "      background-color: #E2EBFA;\n",
              "      box-shadow: 0px 1px 2px rgba(60, 64, 67, 0.3), 0px 1px 3px 1px rgba(60, 64, 67, 0.15);\n",
              "      fill: #174EA6;\n",
              "    }\n",
              "\n",
              "    [theme=dark] .colab-df-convert {\n",
              "      background-color: #3B4455;\n",
              "      fill: #D2E3FC;\n",
              "    }\n",
              "\n",
              "    [theme=dark] .colab-df-convert:hover {\n",
              "      background-color: #434B5C;\n",
              "      box-shadow: 0px 1px 3px 1px rgba(0, 0, 0, 0.15);\n",
              "      filter: drop-shadow(0px 1px 2px rgba(0, 0, 0, 0.3));\n",
              "      fill: #FFFFFF;\n",
              "    }\n",
              "  </style>\n",
              "\n",
              "      <script>\n",
              "        const buttonEl =\n",
              "          document.querySelector('#df-d8ec0986-b23d-49a0-8c67-a07898ce47e9 button.colab-df-convert');\n",
              "        buttonEl.style.display =\n",
              "          google.colab.kernel.accessAllowed ? 'block' : 'none';\n",
              "\n",
              "        async function convertToInteractive(key) {\n",
              "          const element = document.querySelector('#df-d8ec0986-b23d-49a0-8c67-a07898ce47e9');\n",
              "          const dataTable =\n",
              "            await google.colab.kernel.invokeFunction('convertToInteractive',\n",
              "                                                     [key], {});\n",
              "          if (!dataTable) return;\n",
              "\n",
              "          const docLinkHtml = 'Like what you see? Visit the ' +\n",
              "            '<a target=\"_blank\" href=https://colab.research.google.com/notebooks/data_table.ipynb>data table notebook</a>'\n",
              "            + ' to learn more about interactive tables.';\n",
              "          element.innerHTML = '';\n",
              "          dataTable['output_type'] = 'display_data';\n",
              "          await google.colab.output.renderOutput(dataTable, element);\n",
              "          const docLink = document.createElement('div');\n",
              "          docLink.innerHTML = docLinkHtml;\n",
              "          element.appendChild(docLink);\n",
              "        }\n",
              "      </script>\n",
              "    </div>\n",
              "  </div>\n",
              "  "
            ]
          },
          "metadata": {},
          "execution_count": 8
        }
      ]
    },
    {
      "cell_type": "markdown",
      "source": [
        "# EDA"
      ],
      "metadata": {
        "id": "L1h9uIBB4SwN"
      }
    },
    {
      "cell_type": "code",
      "source": [
        "# Filter bảng thành 2 bảng exit (Yes) và cont (No)\n",
        "exit = df[df['Exited']=='Yes']\n",
        "cont = df[df['Exited']=='No']"
      ],
      "metadata": {
        "id": "xDusk7tE5Sy8"
      },
      "execution_count": null,
      "outputs": []
    },
    {
      "cell_type": "code",
      "source": [
        "# Function vẽ chart \n",
        "def plot(a,b):\n",
        "  plt.xlabel(a)\n",
        "  plt.ylabel('Number of Customers')\n",
        "  plt.title(a + ' vs Exited')\n",
        "  return plt.hist([exit[a],cont[a]],color=['black','green'],label=['exit','cont'],bins = b)\n"
      ],
      "metadata": {
        "id": "AZ7_7Elw6HbC"
      },
      "execution_count": null,
      "outputs": []
    },
    {
      "cell_type": "code",
      "source": [
        "plot('Geography',3)\n",
        "plt.legend();"
      ],
      "metadata": {
        "colab": {
          "base_uri": "https://localhost:8080/",
          "height": 472
        },
        "id": "HHDjdE0I8Wu6",
        "outputId": "d5362727-d3e9-42f0-f33c-2330411123b5"
      },
      "execution_count": null,
      "outputs": [
        {
          "output_type": "display_data",
          "data": {
            "text/plain": [
              "<Figure size 640x480 with 1 Axes>"
            ],
            "image/png": "[encoded data removed]"
          },
          "metadata": {}
        }
      ]
    },
    {
      "cell_type": "code",
      "source": [
        "plot('Tenure',11)\n",
        "plt.xticks(np.arange(0,11))\n",
        "plt.legend(loc='upper left');"
      ],
      "metadata": {
        "colab": {
          "base_uri": "https://localhost:8080/",
          "height": 472
        },
        "id": "odYhP1Vl-935",
        "outputId": "1d47b582-75fa-49da-d811-b713025f0423"
      },
      "execution_count": null,
      "outputs": [
        {
          "output_type": "display_data",
          "data": {
            "text/plain": [
              "<Figure size 640x480 with 1 Axes>"
            ],
            "image/png": "[encoded data removed]"
          },
          "metadata": {}
        }
      ]
    },
    {
      "cell_type": "code",
      "source": [
        "plot('IsActiveMember',2)\n",
        "plt.xticks(df.IsActiveMember.unique())\n",
        "plt.legend();"
      ],
      "metadata": {
        "colab": {
          "base_uri": "https://localhost:8080/",
          "height": 472
        },
        "id": "ueOerswCB-Zo",
        "outputId": "803fe07d-45ff-4158-f46e-a6428300e5af"
      },
      "execution_count": null,
      "outputs": [
        {
          "output_type": "display_data",
          "data": {
            "text/plain": [
              "<Figure size 640x480 with 1 Axes>"
            ],
            "image/png": "[encoded data removed]"
          },
          "metadata": {}
        }
      ]
    },
    {
      "cell_type": "code",
      "source": [
        "plot('HasCrCard',2)\n",
        "plt.xticks(df.HasCrCard.unique())\n",
        "plt.legend();"
      ],
      "metadata": {
        "colab": {
          "base_uri": "https://localhost:8080/",
          "height": 472
        },
        "id": "nu38VtW7GuVo",
        "outputId": "bbfc5a1e-60ad-4a9e-c869-c55351439302"
      },
      "execution_count": null,
      "outputs": [
        {
          "output_type": "display_data",
          "data": {
            "text/plain": [
              "<Figure size 640x480 with 1 Axes>"
            ],
            "image/png": "[encoded data removed]"
          },
          "metadata": {}
        }
      ]
    },
    {
      "cell_type": "code",
      "source": [
        "# Đếm dữ liệu các cột categorical\n",
        "for i in df:\n",
        "    if df[i].dtypes == 'object':\n",
        "      print(i)\n",
        "      print(df[i].value_counts())\n",
        "      print(\"----------------------------------\")"
      ],
      "metadata": {
        "colab": {
          "base_uri": "https://localhost:8080/"
        },
        "id": "JE2jfPMyFus3",
        "outputId": "c50cb75f-0c5f-4f68-bcba-38cc3e91e5de"
      },
      "execution_count": null,
      "outputs": [
        {
          "output_type": "stream",
          "name": "stdout",
          "text": [
            "Geography\n",
            "France     5014\n",
            "Germany    2509\n",
            "Spain      2477\n",
            "Name: Geography, dtype: int64\n",
            "----------------------------------\n",
            "Gender\n",
            "Male      5457\n",
            "Female    4543\n",
            "Name: Gender, dtype: int64\n",
            "----------------------------------\n",
            "HasCrCard\n",
            "Yes    7055\n",
            "No     2945\n",
            "Name: HasCrCard, dtype: int64\n",
            "----------------------------------\n",
            "IsActiveMember\n",
            "Yes    5151\n",
            "No     4849\n",
            "Name: IsActiveMember, dtype: int64\n",
            "----------------------------------\n",
            "Exited\n",
            "No     7963\n",
            "Yes    2037\n",
            "Name: Exited, dtype: int64\n",
            "----------------------------------\n"
          ]
        }
      ]
    },
    {
      "cell_type": "markdown",
      "source": [
        "# Data processing"
      ],
      "metadata": {
        "id": "JwnAvl062ln9"
      }
    },
    {
      "cell_type": "code",
      "source": [
        "# Change binary values to 0,1\n",
        "col_yes_no = ['HasCrCard','IsActiveMember','Exited']\n",
        "for i in col_yes_no:\n",
        "  df[i].replace(to_replace=['Yes','No'], value=[1,0],inplace=True)"
      ],
      "metadata": {
        "id": "XkdlI3QePJ65"
      },
      "execution_count": null,
      "outputs": []
    },
    {
      "cell_type": "code",
      "source": [
        "df['Gender'].replace(to_replace=['Male','Female'], value=[0,1],inplace=True)"
      ],
      "metadata": {
        "id": "J0gY9q12HMal"
      },
      "execution_count": null,
      "outputs": []
    },
    {
      "cell_type": "code",
      "source": [
        "df.head()"
      ],
      "metadata": {
        "colab": {
          "base_uri": "https://localhost:8080/",
          "height": 206
        },
        "id": "7tsXKfC413Xo",
        "outputId": "4648ba77-8a7e-48c6-e622-cd770e38477d"
      },
      "execution_count": null,
      "outputs": [
        {
          "output_type": "execute_result",
          "data": {
            "text/plain": [
              "   CreditScore Geography  Gender  Age  Tenure    Balance  NumOfProducts  \\\n",
              "0          619    France       1   42       2       0.00              1   \n",
              "1          608     Spain       1   41       1   83807.86              1   \n",
              "2          502    France       1   42       8  159660.80              3   \n",
              "3          699    France       1   39       1       0.00              2   \n",
              "4          850     Spain       1   43       2  125510.82              1   \n",
              "\n",
              "   HasCrCard  IsActiveMember  EstimatedSalary  Exited  \n",
              "0          1               1        101348.88       1  \n",
              "1          0               1        112542.58       0  \n",
              "2          1               0        113931.57       1  \n",
              "3          0               0         93826.63       0  \n",
              "4          1               1         79084.10       0  "
            ],
            "text/html": [
              "\n",
              "  <div id=\"df-1eea4e50-839c-4728-8485-98904eef7fe3\">\n",
              "    <div class=\"colab-df-container\">\n",
              "      <div>\n",
              "<style scoped>\n",
              "    .dataframe tbody tr th:only-of-type {\n",
              "        vertical-align: middle;\n",
              "    }\n",
              "\n",
              "    .dataframe tbody tr th {\n",
              "        vertical-align: top;\n",
              "    }\n",
              "\n",
              "    .dataframe thead th {\n",
              "        text-align: right;\n",
              "    }\n",
              "</style>\n",
              "<table border=\"1\" class=\"dataframe\">\n",
              "  <thead>\n",
              "    <tr style=\"text-align: right;\">\n",
              "      <th></th>\n",
              "      <th>CreditScore</th>\n",
              "      <th>Geography</th>\n",
              "      <th>Gender</th>\n",
              "      <th>Age</th>\n",
              "      <th>Tenure</th>\n",
              "      <th>Balance</th>\n",
              "      <th>NumOfProducts</th>\n",
              "      <th>HasCrCard</th>\n",
              "      <th>IsActiveMember</th>\n",
              "      <th>EstimatedSalary</th>\n",
              "      <th>Exited</th>\n",
              "    </tr>\n",
              "  </thead>\n",
              "  <tbody>\n",
              "    <tr>\n",
              "      <th>0</th>\n",
              "      <td>619</td>\n",
              "      <td>France</td>\n",
              "      <td>1</td>\n",
              "      <td>42</td>\n",
              "      <td>2</td>\n",
              "      <td>0.00</td>\n",
              "      <td>1</td>\n",
              "      <td>1</td>\n",
              "      <td>1</td>\n",
              "      <td>101348.88</td>\n",
              "      <td>1</td>\n",
              "    </tr>\n",
              "    <tr>\n",
              "      <th>1</th>\n",
              "      <td>608</td>\n",
              "      <td>Spain</td>\n",
              "      <td>1</td>\n",
              "      <td>41</td>\n",
              "      <td>1</td>\n",
              "      <td>83807.86</td>\n",
              "      <td>1</td>\n",
              "      <td>0</td>\n",
              "      <td>1</td>\n",
              "      <td>112542.58</td>\n",
              "      <td>0</td>\n",
              "    </tr>\n",
              "    <tr>\n",
              "      <th>2</th>\n",
              "      <td>502</td>\n",
              "      <td>France</td>\n",
              "      <td>1</td>\n",
              "      <td>42</td>\n",
              "      <td>8</td>\n",
              "      <td>159660.80</td>\n",
              "      <td>3</td>\n",
              "      <td>1</td>\n",
              "      <td>0</td>\n",
              "      <td>113931.57</td>\n",
              "      <td>1</td>\n",
              "    </tr>\n",
              "    <tr>\n",
              "      <th>3</th>\n",
              "      <td>699</td>\n",
              "      <td>France</td>\n",
              "      <td>1</td>\n",
              "      <td>39</td>\n",
              "      <td>1</td>\n",
              "      <td>0.00</td>\n",
              "      <td>2</td>\n",
              "      <td>0</td>\n",
              "      <td>0</td>\n",
              "      <td>93826.63</td>\n",
              "      <td>0</td>\n",
              "    </tr>\n",
              "    <tr>\n",
              "      <th>4</th>\n",
              "      <td>850</td>\n",
              "      <td>Spain</td>\n",
              "      <td>1</td>\n",
              "      <td>43</td>\n",
              "      <td>2</td>\n",
              "      <td>125510.82</td>\n",
              "      <td>1</td>\n",
              "      <td>1</td>\n",
              "      <td>1</td>\n",
              "      <td>79084.10</td>\n",
              "      <td>0</td>\n",
              "    </tr>\n",
              "  </tbody>\n",
              "</table>\n",
              "</div>\n",
              "      <button class=\"colab-df-convert\" onclick=\"convertToInteractive('df-1eea4e50-839c-4728-8485-98904eef7fe3')\"\n",
              "              title=\"Convert this dataframe to an interactive table.\"\n",
              "              style=\"display:none;\">\n",
              "        \n",
              "  <svg xmlns=\"http://www.w3.org/2000/svg\" height=\"24px\"viewBox=\"0 0 24 24\"\n",
              "       width=\"24px\">\n",
              "    <path d=\"M0 0h24v24H0V0z\" fill=\"none\"/>\n",
              "    <path d=\"M18.56 5.44l.94 2.06.94-2.06 2.06-.94-2.06-.94-.94-2.06-.94 2.06-2.06.94zm-11 1L8.5 8.5l.94-2.06 2.06-.94-2.06-.94L8.5 2.5l-.94 2.06-2.06.94zm10 10l.94 2.06.94-2.06 2.06-.94-2.06-.94-.94-2.06-.94 2.06-2.06.94z\"/><path d=\"M17.41 7.96l-1.37-1.37c-.4-.4-.92-.59-1.43-.59-.52 0-1.04.2-1.43.59L10.3 9.45l-7.72 7.72c-.78.78-.78 2.05 0 2.83L4 21.41c.39.39.9.59 1.41.59.51 0 1.02-.2 1.41-.59l7.78-7.78 2.81-2.81c.8-.78.8-2.07 0-2.86zM5.41 20L4 18.59l7.72-7.72 1.47 1.35L5.41 20z\"/>\n",
              "  </svg>\n",
              "      </button>\n",
              "      \n",
              "  <style>\n",
              "    .colab-df-container {\n",
              "      display:flex;\n",
              "      flex-wrap:wrap;\n",
              "      gap: 12px;\n",
              "    }\n",
              "\n",
              "    .colab-df-convert {\n",
              "      background-color: #E8F0FE;\n",
              "      border: none;\n",
              "      border-radius: 50%;\n",
              "      cursor: pointer;\n",
              "      display: none;\n",
              "      fill: #1967D2;\n",
              "      height: 32px;\n",
              "      padding: 0 0 0 0;\n",
              "      width: 32px;\n",
              "    }\n",
              "\n",
              "    .colab-df-convert:hover {\n",
              "      background-color: #E2EBFA;\n",
              "      box-shadow: 0px 1px 2px rgba(60, 64, 67, 0.3), 0px 1px 3px 1px rgba(60, 64, 67, 0.15);\n",
              "      fill: #174EA6;\n",
              "    }\n",
              "\n",
              "    [theme=dark] .colab-df-convert {\n",
              "      background-color: #3B4455;\n",
              "      fill: #D2E3FC;\n",
              "    }\n",
              "\n",
              "    [theme=dark] .colab-df-convert:hover {\n",
              "      background-color: #434B5C;\n",
              "      box-shadow: 0px 1px 3px 1px rgba(0, 0, 0, 0.15);\n",
              "      filter: drop-shadow(0px 1px 2px rgba(0, 0, 0, 0.3));\n",
              "      fill: #FFFFFF;\n",
              "    }\n",
              "  </style>\n",
              "\n",
              "      <script>\n",
              "        const buttonEl =\n",
              "          document.querySelector('#df-1eea4e50-839c-4728-8485-98904eef7fe3 button.colab-df-convert');\n",
              "        buttonEl.style.display =\n",
              "          google.colab.kernel.accessAllowed ? 'block' : 'none';\n",
              "\n",
              "        async function convertToInteractive(key) {\n",
              "          const element = document.querySelector('#df-1eea4e50-839c-4728-8485-98904eef7fe3');\n",
              "          const dataTable =\n",
              "            await google.colab.kernel.invokeFunction('convertToInteractive',\n",
              "                                                     [key], {});\n",
              "          if (!dataTable) return;\n",
              "\n",
              "          const docLinkHtml = 'Like what you see? Visit the ' +\n",
              "            '<a target=\"_blank\" href=https://colab.research.google.com/notebooks/data_table.ipynb>data table notebook</a>'\n",
              "            + ' to learn more about interactive tables.';\n",
              "          element.innerHTML = '';\n",
              "          dataTable['output_type'] = 'display_data';\n",
              "          await google.colab.output.renderOutput(dataTable, element);\n",
              "          const docLink = document.createElement('div');\n",
              "          docLink.innerHTML = docLinkHtml;\n",
              "          element.appendChild(docLink);\n",
              "        }\n",
              "      </script>\n",
              "    </div>\n",
              "  </div>\n",
              "  "
            ]
          },
          "metadata": {},
          "execution_count": 18
        }
      ]
    },
    {
      "cell_type": "code",
      "source": [
        "df = pd.get_dummies(data=df, columns=['Geography'])"
      ],
      "metadata": {
        "id": "Pru29SwnJokx"
      },
      "execution_count": null,
      "outputs": []
    },
    {
      "cell_type": "code",
      "source": [
        "df.head()"
      ],
      "metadata": {
        "colab": {
          "base_uri": "https://localhost:8080/",
          "height": 206
        },
        "id": "FssO9dMq22VZ",
        "outputId": "f5b6d435-1f2c-4dbc-996b-7af2f637192d"
      },
      "execution_count": null,
      "outputs": [
        {
          "output_type": "execute_result",
          "data": {
            "text/plain": [
              "   CreditScore  Gender  Age  Tenure    Balance  NumOfProducts  HasCrCard  \\\n",
              "0          619       1   42       2       0.00              1          1   \n",
              "1          608       1   41       1   83807.86              1          0   \n",
              "2          502       1   42       8  159660.80              3          1   \n",
              "3          699       1   39       1       0.00              2          0   \n",
              "4          850       1   43       2  125510.82              1          1   \n",
              "\n",
              "   IsActiveMember  EstimatedSalary  Exited  Geography_France  \\\n",
              "0               1        101348.88       1                 1   \n",
              "1               1        112542.58       0                 0   \n",
              "2               0        113931.57       1                 1   \n",
              "3               0         93826.63       0                 1   \n",
              "4               1         79084.10       0                 0   \n",
              "\n",
              "   Geography_Germany  Geography_Spain  \n",
              "0                  0                0  \n",
              "1                  0                1  \n",
              "2                  0                0  \n",
              "3                  0                0  \n",
              "4                  0                1  "
            ],
            "text/html": [
              "\n",
              "  <div id=\"df-5b6eb638-6dd6-44ab-adb1-0b6bb7021eb2\">\n",
              "    <div class=\"colab-df-container\">\n",
              "      <div>\n",
              "<style scoped>\n",
              "    .dataframe tbody tr th:only-of-type {\n",
              "        vertical-align: middle;\n",
              "    }\n",
              "\n",
              "    .dataframe tbody tr th {\n",
              "        vertical-align: top;\n",
              "    }\n",
              "\n",
              "    .dataframe thead th {\n",
              "        text-align: right;\n",
              "    }\n",
              "</style>\n",
              "<table border=\"1\" class=\"dataframe\">\n",
              "  <thead>\n",
              "    <tr style=\"text-align: right;\">\n",
              "      <th></th>\n",
              "      <th>CreditScore</th>\n",
              "      <th>Gender</th>\n",
              "      <th>Age</th>\n",
              "      <th>Tenure</th>\n",
              "      <th>Balance</th>\n",
              "      <th>NumOfProducts</th>\n",
              "      <th>HasCrCard</th>\n",
              "      <th>IsActiveMember</th>\n",
              "      <th>EstimatedSalary</th>\n",
              "      <th>Exited</th>\n",
              "      <th>Geography_France</th>\n",
              "      <th>Geography_Germany</th>\n",
              "      <th>Geography_Spain</th>\n",
              "    </tr>\n",
              "  </thead>\n",
              "  <tbody>\n",
              "    <tr>\n",
              "      <th>0</th>\n",
              "      <td>619</td>\n",
              "      <td>1</td>\n",
              "      <td>42</td>\n",
              "      <td>2</td>\n",
              "      <td>0.00</td>\n",
              "      <td>1</td>\n",
              "      <td>1</td>\n",
              "      <td>1</td>\n",
              "      <td>101348.88</td>\n",
              "      <td>1</td>\n",
              "      <td>1</td>\n",
              "      <td>0</td>\n",
              "      <td>0</td>\n",
              "    </tr>\n",
              "    <tr>\n",
              "      <th>1</th>\n",
              "      <td>608</td>\n",
              "      <td>1</td>\n",
              "      <td>41</td>\n",
              "      <td>1</td>\n",
              "      <td>83807.86</td>\n",
              "      <td>1</td>\n",
              "      <td>0</td>\n",
              "      <td>1</td>\n",
              "      <td>112542.58</td>\n",
              "      <td>0</td>\n",
              "      <td>0</td>\n",
              "      <td>0</td>\n",
              "      <td>1</td>\n",
              "    </tr>\n",
              "    <tr>\n",
              "      <th>2</th>\n",
              "      <td>502</td>\n",
              "      <td>1</td>\n",
              "      <td>42</td>\n",
              "      <td>8</td>\n",
              "      <td>159660.80</td>\n",
              "      <td>3</td>\n",
              "      <td>1</td>\n",
              "      <td>0</td>\n",
              "      <td>113931.57</td>\n",
              "      <td>1</td>\n",
              "      <td>1</td>\n",
              "      <td>0</td>\n",
              "      <td>0</td>\n",
              "    </tr>\n",
              "    <tr>\n",
              "      <th>3</th>\n",
              "      <td>699</td>\n",
              "      <td>1</td>\n",
              "      <td>39</td>\n",
              "      <td>1</td>\n",
              "      <td>0.00</td>\n",
              "      <td>2</td>\n",
              "      <td>0</td>\n",
              "      <td>0</td>\n",
              "      <td>93826.63</td>\n",
              "      <td>0</td>\n",
              "      <td>1</td>\n",
              "      <td>0</td>\n",
              "      <td>0</td>\n",
              "    </tr>\n",
              "    <tr>\n",
              "      <th>4</th>\n",
              "      <td>850</td>\n",
              "      <td>1</td>\n",
              "      <td>43</td>\n",
              "      <td>2</td>\n",
              "      <td>125510.82</td>\n",
              "      <td>1</td>\n",
              "      <td>1</td>\n",
              "      <td>1</td>\n",
              "      <td>79084.10</td>\n",
              "      <td>0</td>\n",
              "      <td>0</td>\n",
              "      <td>0</td>\n",
              "      <td>1</td>\n",
              "    </tr>\n",
              "  </tbody>\n",
              "</table>\n",
              "</div>\n",
              "      <button class=\"colab-df-convert\" onclick=\"convertToInteractive('df-5b6eb638-6dd6-44ab-adb1-0b6bb7021eb2')\"\n",
              "              title=\"Convert this dataframe to an interactive table.\"\n",
              "              style=\"display:none;\">\n",
              "        \n",
              "  <svg xmlns=\"http://www.w3.org/2000/svg\" height=\"24px\"viewBox=\"0 0 24 24\"\n",
              "       width=\"24px\">\n",
              "    <path d=\"M0 0h24v24H0V0z\" fill=\"none\"/>\n",
              "    <path d=\"M18.56 5.44l.94 2.06.94-2.06 2.06-.94-2.06-.94-.94-2.06-.94 2.06-2.06.94zm-11 1L8.5 8.5l.94-2.06 2.06-.94-2.06-.94L8.5 2.5l-.94 2.06-2.06.94zm10 10l.94 2.06.94-2.06 2.06-.94-2.06-.94-.94-2.06-.94 2.06-2.06.94z\"/><path d=\"M17.41 7.96l-1.37-1.37c-.4-.4-.92-.59-1.43-.59-.52 0-1.04.2-1.43.59L10.3 9.45l-7.72 7.72c-.78.78-.78 2.05 0 2.83L4 21.41c.39.39.9.59 1.41.59.51 0 1.02-.2 1.41-.59l7.78-7.78 2.81-2.81c.8-.78.8-2.07 0-2.86zM5.41 20L4 18.59l7.72-7.72 1.47 1.35L5.41 20z\"/>\n",
              "  </svg>\n",
              "      </button>\n",
              "      \n",
              "  <style>\n",
              "    .colab-df-container {\n",
              "      display:flex;\n",
              "      flex-wrap:wrap;\n",
              "      gap: 12px;\n",
              "    }\n",
              "\n",
              "    .colab-df-convert {\n",
              "      background-color: #E8F0FE;\n",
              "      border: none;\n",
              "      border-radius: 50%;\n",
              "      cursor: pointer;\n",
              "      display: none;\n",
              "      fill: #1967D2;\n",
              "      height: 32px;\n",
              "      padding: 0 0 0 0;\n",
              "      width: 32px;\n",
              "    }\n",
              "\n",
              "    .colab-df-convert:hover {\n",
              "      background-color: #E2EBFA;\n",
              "      box-shadow: 0px 1px 2px rgba(60, 64, 67, 0.3), 0px 1px 3px 1px rgba(60, 64, 67, 0.15);\n",
              "      fill: #174EA6;\n",
              "    }\n",
              "\n",
              "    [theme=dark] .colab-df-convert {\n",
              "      background-color: #3B4455;\n",
              "      fill: #D2E3FC;\n",
              "    }\n",
              "\n",
              "    [theme=dark] .colab-df-convert:hover {\n",
              "      background-color: #434B5C;\n",
              "      box-shadow: 0px 1px 3px 1px rgba(0, 0, 0, 0.15);\n",
              "      filter: drop-shadow(0px 1px 2px rgba(0, 0, 0, 0.3));\n",
              "      fill: #FFFFFF;\n",
              "    }\n",
              "  </style>\n",
              "\n",
              "      <script>\n",
              "        const buttonEl =\n",
              "          document.querySelector('#df-5b6eb638-6dd6-44ab-adb1-0b6bb7021eb2 button.colab-df-convert');\n",
              "        buttonEl.style.display =\n",
              "          google.colab.kernel.accessAllowed ? 'block' : 'none';\n",
              "\n",
              "        async function convertToInteractive(key) {\n",
              "          const element = document.querySelector('#df-5b6eb638-6dd6-44ab-adb1-0b6bb7021eb2');\n",
              "          const dataTable =\n",
              "            await google.colab.kernel.invokeFunction('convertToInteractive',\n",
              "                                                     [key], {});\n",
              "          if (!dataTable) return;\n",
              "\n",
              "          const docLinkHtml = 'Like what you see? Visit the ' +\n",
              "            '<a target=\"_blank\" href=https://colab.research.google.com/notebooks/data_table.ipynb>data table notebook</a>'\n",
              "            + ' to learn more about interactive tables.';\n",
              "          element.innerHTML = '';\n",
              "          dataTable['output_type'] = 'display_data';\n",
              "          await google.colab.output.renderOutput(dataTable, element);\n",
              "          const docLink = document.createElement('div');\n",
              "          docLink.innerHTML = docLinkHtml;\n",
              "          element.appendChild(docLink);\n",
              "        }\n",
              "      </script>\n",
              "    </div>\n",
              "  </div>\n",
              "  "
            ]
          },
          "metadata": {},
          "execution_count": 20
        }
      ]
    },
    {
      "cell_type": "code",
      "source": [
        "# Scale to range (0,1)\n",
        "col_scale = ['CreditScore','Age','Tenure','Balance','NumOfProducts','EstimatedSalary']\n",
        "\n",
        "from sklearn.preprocessing import MinMaxScaler\n",
        "scaler = MinMaxScaler()\n",
        "df[col_scale] = scaler.fit_transform(df[col_scale])"
      ],
      "metadata": {
        "id": "2nFqRJhuJ7bc"
      },
      "execution_count": null,
      "outputs": []
    },
    {
      "cell_type": "code",
      "source": [
        "df.head()"
      ],
      "metadata": {
        "colab": {
          "base_uri": "https://localhost:8080/",
          "height": 206
        },
        "id": "jMFNmxoSK3aR",
        "outputId": "920e5efd-e559-4953-bc9e-6d683c3efe9f"
      },
      "execution_count": null,
      "outputs": [
        {
          "output_type": "execute_result",
          "data": {
            "text/plain": [
              "   CreditScore  Gender       Age  Tenure   Balance  NumOfProducts  HasCrCard  \\\n",
              "0        0.538       1  0.324324     0.2  0.000000       0.000000          1   \n",
              "1        0.516       1  0.310811     0.1  0.334031       0.000000          0   \n",
              "2        0.304       1  0.324324     0.8  0.636357       0.666667          1   \n",
              "3        0.698       1  0.283784     0.1  0.000000       0.333333          0   \n",
              "4        1.000       1  0.337838     0.2  0.500246       0.000000          1   \n",
              "\n",
              "   IsActiveMember  EstimatedSalary  Exited  Geography_France  \\\n",
              "0               1         0.506735       1                 1   \n",
              "1               1         0.562709       0                 0   \n",
              "2               0         0.569654       1                 1   \n",
              "3               0         0.469120       0                 1   \n",
              "4               1         0.395400       0                 0   \n",
              "\n",
              "   Geography_Germany  Geography_Spain  \n",
              "0                  0                0  \n",
              "1                  0                1  \n",
              "2                  0                0  \n",
              "3                  0                0  \n",
              "4                  0                1  "
            ],
            "text/html": [
              "\n",
              "  <div id=\"df-650cc58a-7897-40d9-9cb3-1aac933a15ff\">\n",
              "    <div class=\"colab-df-container\">\n",
              "      <div>\n",
              "<style scoped>\n",
              "    .dataframe tbody tr th:only-of-type {\n",
              "        vertical-align: middle;\n",
              "    }\n",
              "\n",
              "    .dataframe tbody tr th {\n",
              "        vertical-align: top;\n",
              "    }\n",
              "\n",
              "    .dataframe thead th {\n",
              "        text-align: right;\n",
              "    }\n",
              "</style>\n",
              "<table border=\"1\" class=\"dataframe\">\n",
              "  <thead>\n",
              "    <tr style=\"text-align: right;\">\n",
              "      <th></th>\n",
              "      <th>CreditScore</th>\n",
              "      <th>Gender</th>\n",
              "      <th>Age</th>\n",
              "      <th>Tenure</th>\n",
              "      <th>Balance</th>\n",
              "      <th>NumOfProducts</th>\n",
              "      <th>HasCrCard</th>\n",
              "      <th>IsActiveMember</th>\n",
              "      <th>EstimatedSalary</th>\n",
              "      <th>Exited</th>\n",
              "      <th>Geography_France</th>\n",
              "      <th>Geography_Germany</th>\n",
              "      <th>Geography_Spain</th>\n",
              "    </tr>\n",
              "  </thead>\n",
              "  <tbody>\n",
              "    <tr>\n",
              "      <th>0</th>\n",
              "      <td>0.538</td>\n",
              "      <td>1</td>\n",
              "      <td>0.324324</td>\n",
              "      <td>0.2</td>\n",
              "      <td>0.000000</td>\n",
              "      <td>0.000000</td>\n",
              "      <td>1</td>\n",
              "      <td>1</td>\n",
              "      <td>0.506735</td>\n",
              "      <td>1</td>\n",
              "      <td>1</td>\n",
              "      <td>0</td>\n",
              "      <td>0</td>\n",
              "    </tr>\n",
              "    <tr>\n",
              "      <th>1</th>\n",
              "      <td>0.516</td>\n",
              "      <td>1</td>\n",
              "      <td>0.310811</td>\n",
              "      <td>0.1</td>\n",
              "      <td>0.334031</td>\n",
              "      <td>0.000000</td>\n",
              "      <td>0</td>\n",
              "      <td>1</td>\n",
              "      <td>0.562709</td>\n",
              "      <td>0</td>\n",
              "      <td>0</td>\n",
              "      <td>0</td>\n",
              "      <td>1</td>\n",
              "    </tr>\n",
              "    <tr>\n",
              "      <th>2</th>\n",
              "      <td>0.304</td>\n",
              "      <td>1</td>\n",
              "      <td>0.324324</td>\n",
              "      <td>0.8</td>\n",
              "      <td>0.636357</td>\n",
              "      <td>0.666667</td>\n",
              "      <td>1</td>\n",
              "      <td>0</td>\n",
              "      <td>0.569654</td>\n",
              "      <td>1</td>\n",
              "      <td>1</td>\n",
              "      <td>0</td>\n",
              "      <td>0</td>\n",
              "    </tr>\n",
              "    <tr>\n",
              "      <th>3</th>\n",
              "      <td>0.698</td>\n",
              "      <td>1</td>\n",
              "      <td>0.283784</td>\n",
              "      <td>0.1</td>\n",
              "      <td>0.000000</td>\n",
              "      <td>0.333333</td>\n",
              "      <td>0</td>\n",
              "      <td>0</td>\n",
              "      <td>0.469120</td>\n",
              "      <td>0</td>\n",
              "      <td>1</td>\n",
              "      <td>0</td>\n",
              "      <td>0</td>\n",
              "    </tr>\n",
              "    <tr>\n",
              "      <th>4</th>\n",
              "      <td>1.000</td>\n",
              "      <td>1</td>\n",
              "      <td>0.337838</td>\n",
              "      <td>0.2</td>\n",
              "      <td>0.500246</td>\n",
              "      <td>0.000000</td>\n",
              "      <td>1</td>\n",
              "      <td>1</td>\n",
              "      <td>0.395400</td>\n",
              "      <td>0</td>\n",
              "      <td>0</td>\n",
              "      <td>0</td>\n",
              "      <td>1</td>\n",
              "    </tr>\n",
              "  </tbody>\n",
              "</table>\n",
              "</div>\n",
              "      <button class=\"colab-df-convert\" onclick=\"convertToInteractive('df-650cc58a-7897-40d9-9cb3-1aac933a15ff')\"\n",
              "              title=\"Convert this dataframe to an interactive table.\"\n",
              "              style=\"display:none;\">\n",
              "        \n",
              "  <svg xmlns=\"http://www.w3.org/2000/svg\" height=\"24px\"viewBox=\"0 0 24 24\"\n",
              "       width=\"24px\">\n",
              "    <path d=\"M0 0h24v24H0V0z\" fill=\"none\"/>\n",
              "    <path d=\"M18.56 5.44l.94 2.06.94-2.06 2.06-.94-2.06-.94-.94-2.06-.94 2.06-2.06.94zm-11 1L8.5 8.5l.94-2.06 2.06-.94-2.06-.94L8.5 2.5l-.94 2.06-2.06.94zm10 10l.94 2.06.94-2.06 2.06-.94-2.06-.94-.94-2.06-.94 2.06-2.06.94z\"/><path d=\"M17.41 7.96l-1.37-1.37c-.4-.4-.92-.59-1.43-.59-.52 0-1.04.2-1.43.59L10.3 9.45l-7.72 7.72c-.78.78-.78 2.05 0 2.83L4 21.41c.39.39.9.59 1.41.59.51 0 1.02-.2 1.41-.59l7.78-7.78 2.81-2.81c.8-.78.8-2.07 0-2.86zM5.41 20L4 18.59l7.72-7.72 1.47 1.35L5.41 20z\"/>\n",
              "  </svg>\n",
              "      </button>\n",
              "      \n",
              "  <style>\n",
              "    .colab-df-container {\n",
              "      display:flex;\n",
              "      flex-wrap:wrap;\n",
              "      gap: 12px;\n",
              "    }\n",
              "\n",
              "    .colab-df-convert {\n",
              "      background-color: #E8F0FE;\n",
              "      border: none;\n",
              "      border-radius: 50%;\n",
              "      cursor: pointer;\n",
              "      display: none;\n",
              "      fill: #1967D2;\n",
              "      height: 32px;\n",
              "      padding: 0 0 0 0;\n",
              "      width: 32px;\n",
              "    }\n",
              "\n",
              "    .colab-df-convert:hover {\n",
              "      background-color: #E2EBFA;\n",
              "      box-shadow: 0px 1px 2px rgba(60, 64, 67, 0.3), 0px 1px 3px 1px rgba(60, 64, 67, 0.15);\n",
              "      fill: #174EA6;\n",
              "    }\n",
              "\n",
              "    [theme=dark] .colab-df-convert {\n",
              "      background-color: #3B4455;\n",
              "      fill: #D2E3FC;\n",
              "    }\n",
              "\n",
              "    [theme=dark] .colab-df-convert:hover {\n",
              "      background-color: #434B5C;\n",
              "      box-shadow: 0px 1px 3px 1px rgba(0, 0, 0, 0.15);\n",
              "      filter: drop-shadow(0px 1px 2px rgba(0, 0, 0, 0.3));\n",
              "      fill: #FFFFFF;\n",
              "    }\n",
              "  </style>\n",
              "\n",
              "      <script>\n",
              "        const buttonEl =\n",
              "          document.querySelector('#df-650cc58a-7897-40d9-9cb3-1aac933a15ff button.colab-df-convert');\n",
              "        buttonEl.style.display =\n",
              "          google.colab.kernel.accessAllowed ? 'block' : 'none';\n",
              "\n",
              "        async function convertToInteractive(key) {\n",
              "          const element = document.querySelector('#df-650cc58a-7897-40d9-9cb3-1aac933a15ff');\n",
              "          const dataTable =\n",
              "            await google.colab.kernel.invokeFunction('convertToInteractive',\n",
              "                                                     [key], {});\n",
              "          if (!dataTable) return;\n",
              "\n",
              "          const docLinkHtml = 'Like what you see? Visit the ' +\n",
              "            '<a target=\"_blank\" href=https://colab.research.google.com/notebooks/data_table.ipynb>data table notebook</a>'\n",
              "            + ' to learn more about interactive tables.';\n",
              "          element.innerHTML = '';\n",
              "          dataTable['output_type'] = 'display_data';\n",
              "          await google.colab.output.renderOutput(dataTable, element);\n",
              "          const docLink = document.createElement('div');\n",
              "          docLink.innerHTML = docLinkHtml;\n",
              "          element.appendChild(docLink);\n",
              "        }\n",
              "      </script>\n",
              "    </div>\n",
              "  </div>\n",
              "  "
            ]
          },
          "metadata": {},
          "execution_count": 22
        }
      ]
    },
    {
      "cell_type": "code",
      "source": [
        "# Information of y columns (imbalance)\n",
        "df['Exited'].value_counts().plot(kind='bar')\n",
        "plt.title('Exited Volume')\n",
        "plt.show()"
      ],
      "metadata": {
        "colab": {
          "base_uri": "https://localhost:8080/",
          "height": 447
        },
        "id": "87eCe3u35q7w",
        "outputId": "31420693-196b-43ca-bfcf-32c6b0f9d6eb"
      },
      "execution_count": null,
      "outputs": [
        {
          "output_type": "display_data",
          "data": {
            "text/plain": [
              "<Figure size 640x480 with 1 Axes>"
            ],
            "image/png": "[encoded data removed]"
          },
          "metadata": {}
        }
      ]
    },
    {
      "cell_type": "markdown",
      "source": [
        "# Running model with original data"
      ],
      "metadata": {
        "id": "AaogE9cNK9Dn"
      }
    },
    {
      "cell_type": "code",
      "source": [
        "y = df['Exited']\n",
        "X = df.drop(['Exited'], axis =1)"
      ],
      "metadata": {
        "id": "SJPYTn2X6Slx"
      },
      "execution_count": null,
      "outputs": []
    },
    {
      "cell_type": "code",
      "source": [
        "from sklearn.model_selection import train_test_split\n",
        "X_train, X_test, y_train, y_test = train_test_split(X, y, test_size=0.2, random_state = 42)"
      ],
      "metadata": {
        "id": "KjxncD4W6mF4"
      },
      "execution_count": null,
      "outputs": []
    },
    {
      "cell_type": "code",
      "source": [
        "print('X_train shape:',X_train.shape)\n",
        "print('X_test shape:',X_test.shape)\n",
        "print('y_train shape:',y_train.shape)\n",
        "print('y_test shape:',y_test.shape)"
      ],
      "metadata": {
        "colab": {
          "base_uri": "https://localhost:8080/"
        },
        "id": "s1y3pY_T9PvM",
        "outputId": "8decc858-ca24-4348-885e-e831a957f29c"
      },
      "execution_count": null,
      "outputs": [
        {
          "output_type": "stream",
          "name": "stdout",
          "text": [
            "X_train shape: (8000, 12)\n",
            "X_test shape: (2000, 12)\n",
            "y_train shape: (8000,)\n",
            "y_test shape: (2000,)\n"
          ]
        }
      ]
    },
    {
      "cell_type": "code",
      "source": [
        "from sklearn.linear_model import LogisticRegression\n",
        "from sklearn.naive_bayes import GaussianNB\n",
        "from sklearn.svm import SVC\n",
        "from sklearn.ensemble import RandomForestClassifier\n",
        "from sklearn.tree import DecisionTreeClassifier\n",
        "from sklearn.ensemble import BaggingClassifier, AdaBoostClassifier, GradientBoostingClassifier\n",
        "import xgboost as xgb\n",
        "from sklearn import metrics\n",
        "import datetime"
      ],
      "metadata": {
        "id": "E6bwr4dh8KZL"
      },
      "execution_count": null,
      "outputs": []
    },
    {
      "cell_type": "code",
      "source": [
        "models = [\n",
        "    LogisticRegression(),\n",
        "    GaussianNB(),\n",
        "    SVC(),\n",
        "    RandomForestClassifier(),\n",
        "    DecisionTreeClassifier(),\n",
        "    BaggingClassifier(LogisticRegression()),\n",
        "    AdaBoostClassifier(LogisticRegression()),\n",
        "    GradientBoostingClassifier(),\n",
        "    xgb.XGBClassifier()]\n",
        "times = []\n",
        "scores = []\n",
        "name=[]\n",
        "for model in models:\n",
        "  t1 = datetime.datetime.now()\n",
        "  model_name = model.__class__.__name__\n",
        "  model.fit(X_train,y_train)\n",
        "  t2 = datetime.datetime.now()    \n",
        "  d = round((t2 - t1).microseconds/1000,1)\n",
        "  y_pred = model.predict(X_test)        \n",
        "  scores.append(round(metrics.accuracy_score(y_test, y_pred)*100,2))\n",
        "  times.append(d)\n",
        "  name.append(model_name) "
      ],
      "metadata": {
        "id": "ktolFbNL8njm"
      },
      "execution_count": null,
      "outputs": []
    },
    {
      "cell_type": "code",
      "source": [
        "model_info = pd.DataFrame(np.column_stack([name, scores, times]),columns=['Name', 'Score(%)','Time (s)'])\n",
        "model_info"
      ],
      "metadata": {
        "colab": {
          "base_uri": "https://localhost:8080/",
          "height": 331
        },
        "id": "DdFbuU8JMAtU",
        "outputId": "6202b271-c139-4ffb-ffa4-54945c27c0c4"
      },
      "execution_count": null,
      "outputs": [
        {
          "output_type": "execute_result",
          "data": {
            "text/plain": [
              "                         Name Score(%) Time (s)\n",
              "0          LogisticRegression    81.25     94.5\n",
              "1                  GaussianNB     82.8      5.9\n",
              "2                         SVC    84.45     64.8\n",
              "3      RandomForestClassifier    86.95    865.4\n",
              "4      DecisionTreeClassifier    77.95     36.7\n",
              "5           BaggingClassifier    81.45    379.5\n",
              "6          AdaBoostClassifier     81.4    607.8\n",
              "7  GradientBoostingClassifier     86.4     29.2\n",
              "8               XGBClassifier     86.1    716.8"
            ],
            "text/html": [
              "\n",
              "  <div id=\"df-927557db-461f-4989-9f0d-2fbbc32e2811\">\n",
              "    <div class=\"colab-df-container\">\n",
              "      <div>\n",
              "<style scoped>\n",
              "    .dataframe tbody tr th:only-of-type {\n",
              "        vertical-align: middle;\n",
              "    }\n",
              "\n",
              "    .dataframe tbody tr th {\n",
              "        vertical-align: top;\n",
              "    }\n",
              "\n",
              "    .dataframe thead th {\n",
              "        text-align: right;\n",
              "    }\n",
              "</style>\n",
              "<table border=\"1\" class=\"dataframe\">\n",
              "  <thead>\n",
              "    <tr style=\"text-align: right;\">\n",
              "      <th></th>\n",
              "      <th>Name</th>\n",
              "      <th>Score(%)</th>\n",
              "      <th>Time (s)</th>\n",
              "    </tr>\n",
              "  </thead>\n",
              "  <tbody>\n",
              "    <tr>\n",
              "      <th>0</th>\n",
              "      <td>LogisticRegression</td>\n",
              "      <td>81.25</td>\n",
              "      <td>94.5</td>\n",
              "    </tr>\n",
              "    <tr>\n",
              "      <th>1</th>\n",
              "      <td>GaussianNB</td>\n",
              "      <td>82.8</td>\n",
              "      <td>5.9</td>\n",
              "    </tr>\n",
              "    <tr>\n",
              "      <th>2</th>\n",
              "      <td>SVC</td>\n",
              "      <td>84.45</td>\n",
              "      <td>64.8</td>\n",
              "    </tr>\n",
              "    <tr>\n",
              "      <th>3</th>\n",
              "      <td>RandomForestClassifier</td>\n",
              "      <td>86.95</td>\n",
              "      <td>865.4</td>\n",
              "    </tr>\n",
              "    <tr>\n",
              "      <th>4</th>\n",
              "      <td>DecisionTreeClassifier</td>\n",
              "      <td>77.95</td>\n",
              "      <td>36.7</td>\n",
              "    </tr>\n",
              "    <tr>\n",
              "      <th>5</th>\n",
              "      <td>BaggingClassifier</td>\n",
              "      <td>81.45</td>\n",
              "      <td>379.5</td>\n",
              "    </tr>\n",
              "    <tr>\n",
              "      <th>6</th>\n",
              "      <td>AdaBoostClassifier</td>\n",
              "      <td>81.4</td>\n",
              "      <td>607.8</td>\n",
              "    </tr>\n",
              "    <tr>\n",
              "      <th>7</th>\n",
              "      <td>GradientBoostingClassifier</td>\n",
              "      <td>86.4</td>\n",
              "      <td>29.2</td>\n",
              "    </tr>\n",
              "    <tr>\n",
              "      <th>8</th>\n",
              "      <td>XGBClassifier</td>\n",
              "      <td>86.1</td>\n",
              "      <td>716.8</td>\n",
              "    </tr>\n",
              "  </tbody>\n",
              "</table>\n",
              "</div>\n",
              "      <button class=\"colab-df-convert\" onclick=\"convertToInteractive('df-927557db-461f-4989-9f0d-2fbbc32e2811')\"\n",
              "              title=\"Convert this dataframe to an interactive table.\"\n",
              "              style=\"display:none;\">\n",
              "        \n",
              "  <svg xmlns=\"http://www.w3.org/2000/svg\" height=\"24px\"viewBox=\"0 0 24 24\"\n",
              "       width=\"24px\">\n",
              "    <path d=\"M0 0h24v24H0V0z\" fill=\"none\"/>\n",
              "    <path d=\"M18.56 5.44l.94 2.06.94-2.06 2.06-.94-2.06-.94-.94-2.06-.94 2.06-2.06.94zm-11 1L8.5 8.5l.94-2.06 2.06-.94-2.06-.94L8.5 2.5l-.94 2.06-2.06.94zm10 10l.94 2.06.94-2.06 2.06-.94-2.06-.94-.94-2.06-.94 2.06-2.06.94z\"/><path d=\"M17.41 7.96l-1.37-1.37c-.4-.4-.92-.59-1.43-.59-.52 0-1.04.2-1.43.59L10.3 9.45l-7.72 7.72c-.78.78-.78 2.05 0 2.83L4 21.41c.39.39.9.59 1.41.59.51 0 1.02-.2 1.41-.59l7.78-7.78 2.81-2.81c.8-.78.8-2.07 0-2.86zM5.41 20L4 18.59l7.72-7.72 1.47 1.35L5.41 20z\"/>\n",
              "  </svg>\n",
              "      </button>\n",
              "      \n",
              "  <style>\n",
              "    .colab-df-container {\n",
              "      display:flex;\n",
              "      flex-wrap:wrap;\n",
              "      gap: 12px;\n",
              "    }\n",
              "\n",
              "    .colab-df-convert {\n",
              "      background-color: #E8F0FE;\n",
              "      border: none;\n",
              "      border-radius: 50%;\n",
              "      cursor: pointer;\n",
              "      display: none;\n",
              "      fill: #1967D2;\n",
              "      height: 32px;\n",
              "      padding: 0 0 0 0;\n",
              "      width: 32px;\n",
              "    }\n",
              "\n",
              "    .colab-df-convert:hover {\n",
              "      background-color: #E2EBFA;\n",
              "      box-shadow: 0px 1px 2px rgba(60, 64, 67, 0.3), 0px 1px 3px 1px rgba(60, 64, 67, 0.15);\n",
              "      fill: #174EA6;\n",
              "    }\n",
              "\n",
              "    [theme=dark] .colab-df-convert {\n",
              "      background-color: #3B4455;\n",
              "      fill: #D2E3FC;\n",
              "    }\n",
              "\n",
              "    [theme=dark] .colab-df-convert:hover {\n",
              "      background-color: #434B5C;\n",
              "      box-shadow: 0px 1px 3px 1px rgba(0, 0, 0, 0.15);\n",
              "      filter: drop-shadow(0px 1px 2px rgba(0, 0, 0, 0.3));\n",
              "      fill: #FFFFFF;\n",
              "    }\n",
              "  </style>\n",
              "\n",
              "      <script>\n",
              "        const buttonEl =\n",
              "          document.querySelector('#df-927557db-461f-4989-9f0d-2fbbc32e2811 button.colab-df-convert');\n",
              "        buttonEl.style.display =\n",
              "          google.colab.kernel.accessAllowed ? 'block' : 'none';\n",
              "\n",
              "        async function convertToInteractive(key) {\n",
              "          const element = document.querySelector('#df-927557db-461f-4989-9f0d-2fbbc32e2811');\n",
              "          const dataTable =\n",
              "            await google.colab.kernel.invokeFunction('convertToInteractive',\n",
              "                                                     [key], {});\n",
              "          if (!dataTable) return;\n",
              "\n",
              "          const docLinkHtml = 'Like what you see? Visit the ' +\n",
              "            '<a target=\"_blank\" href=https://colab.research.google.com/notebooks/data_table.ipynb>data table notebook</a>'\n",
              "            + ' to learn more about interactive tables.';\n",
              "          element.innerHTML = '';\n",
              "          dataTable['output_type'] = 'display_data';\n",
              "          await google.colab.output.renderOutput(dataTable, element);\n",
              "          const docLink = document.createElement('div');\n",
              "          docLink.innerHTML = docLinkHtml;\n",
              "          element.appendChild(docLink);\n",
              "        }\n",
              "      </script>\n",
              "    </div>\n",
              "  </div>\n",
              "  "
            ]
          },
          "metadata": {},
          "execution_count": 29
        }
      ]
    },
    {
      "cell_type": "code",
      "source": [
        "# Random Forest model\n",
        "from sklearn.metrics import classification_report\n",
        "rfc_model = RandomForestClassifier()\n",
        "rfc_model.fit(X_train,y_train)\n",
        "y_pred_rfc = rfc_model.predict(X_test) \n",
        "print(classification_report(y_test,y_pred_rfc))"
      ],
      "metadata": {
        "colab": {
          "base_uri": "https://localhost:8080/"
        },
        "id": "W3V020xuI2K8",
        "outputId": "bb1650a5-bad5-491f-eb2b-0c901b0a3327"
      },
      "execution_count": null,
      "outputs": [
        {
          "output_type": "stream",
          "name": "stdout",
          "text": [
            "              precision    recall  f1-score   support\n",
            "\n",
            "           0       0.88      0.96      0.92      1607\n",
            "           1       0.75      0.47      0.57       393\n",
            "\n",
            "    accuracy                           0.86      2000\n",
            "   macro avg       0.82      0.71      0.75      2000\n",
            "weighted avg       0.85      0.86      0.85      2000\n",
            "\n"
          ]
        }
      ]
    },
    {
      "cell_type": "code",
      "source": [
        "# XGBoost model\n",
        "xg_model = xgb.XGBClassifier()\n",
        "xg_model.fit(X_train,y_train)\n",
        "y_pred_xg = xg_model.predict(X_test) \n",
        "print(classification_report(y_test,y_pred_xg))"
      ],
      "metadata": {
        "colab": {
          "base_uri": "https://localhost:8080/"
        },
        "id": "75O878kqKB7j",
        "outputId": "f1622d47-a38e-46a2-90d0-05b011d05565"
      },
      "execution_count": null,
      "outputs": [
        {
          "output_type": "stream",
          "name": "stdout",
          "text": [
            "              precision    recall  f1-score   support\n",
            "\n",
            "           0       0.89      0.95      0.92      1607\n",
            "           1       0.70      0.51      0.59       393\n",
            "\n",
            "    accuracy                           0.86      2000\n",
            "   macro avg       0.80      0.73      0.75      2000\n",
            "weighted avg       0.85      0.86      0.85      2000\n",
            "\n"
          ]
        }
      ]
    },
    {
      "cell_type": "markdown",
      "source": [
        "# Running model with upsampling data"
      ],
      "metadata": {
        "id": "yCMc6Y2CKU8G"
      }
    },
    {
      "cell_type": "code",
      "source": [
        "from imblearn.over_sampling import SMOTE\n",
        "SM_Model=SMOTE()\n",
        "X_SM, y_SM = SM_Model.fit_resample(X,y)"
      ],
      "metadata": {
        "id": "p_FDxNRT-27n"
      },
      "execution_count": null,
      "outputs": []
    },
    {
      "cell_type": "code",
      "source": [
        "from sklearn.model_selection import train_test_split\n",
        "X_SM_train, X_SM_test, y_SM_train, y_SM_test = train_test_split(X_SM, y_SM, test_size=0.2, random_state=42)"
      ],
      "metadata": {
        "id": "w0X0oaRH_NTX"
      },
      "execution_count": null,
      "outputs": []
    },
    {
      "cell_type": "code",
      "source": [
        "print('X_SM_train shape:',X_SM_train.shape)\n",
        "print('X_SM_test shape:',X_SM_test.shape)\n",
        "print('y_SM_train shape:',y_SM_train.shape)\n",
        "print('y_SM_test shape:',y_SM_test.shape)"
      ],
      "metadata": {
        "colab": {
          "base_uri": "https://localhost:8080/"
        },
        "id": "p5adfYo3TzgT",
        "outputId": "64913b13-7d26-4be3-ab61-45944bfa6c07"
      },
      "execution_count": null,
      "outputs": [
        {
          "output_type": "stream",
          "name": "stdout",
          "text": [
            "X_SM_train shape: (12740, 12)\n",
            "X_SM_test shape: (3186, 12)\n",
            "y_SM_train shape: (12740,)\n",
            "y_SM_test shape: (3186,)\n"
          ]
        }
      ]
    },
    {
      "cell_type": "code",
      "source": [
        "models = [\n",
        "    LogisticRegression(),\n",
        "    GaussianNB(),\n",
        "    SVC(),\n",
        "    RandomForestClassifier(),\n",
        "    DecisionTreeClassifier(),\n",
        "    BaggingClassifier(LogisticRegression()),\n",
        "    AdaBoostClassifier(LogisticRegression()),\n",
        "    GradientBoostingClassifier(),\n",
        "    xgb.XGBClassifier()]\n",
        "times = []\n",
        "scores = []\n",
        "name=[]\n",
        "for model in models:\n",
        "  t1 = datetime.datetime.now()\n",
        "  model_name = model.__class__.__name__\n",
        "  model.fit(X_SM_train,y_SM_train)\n",
        "  t2 = datetime.datetime.now()    \n",
        "  d = round((t2 - t1).microseconds/1000,1)\n",
        "  y_SM_pred = model.predict(X_SM_test)        \n",
        "  scores.append(round(metrics.accuracy_score(y_SM_test, y_SM_pred)*100,2))\n",
        "  times.append(d)\n",
        "  name.append(model_name) "
      ],
      "metadata": {
        "id": "dOAYoFS9_g8e"
      },
      "execution_count": null,
      "outputs": []
    },
    {
      "cell_type": "code",
      "source": [
        "model_UP_info = pd.DataFrame(np.column_stack([name, scores, times]),columns=['Name', 'Score(%)','Time (s)'])\n",
        "model_UP_info"
      ],
      "metadata": {
        "colab": {
          "base_uri": "https://localhost:8080/",
          "height": 331
        },
        "id": "Zr8mn_v8Vn2j",
        "outputId": "210b4b59-2128-42b1-802d-1fa708082216"
      },
      "execution_count": null,
      "outputs": [
        {
          "output_type": "execute_result",
          "data": {
            "text/plain": [
              "                         Name Score(%) Time (s)\n",
              "0          LogisticRegression    71.44     69.2\n",
              "1                  GaussianNB    71.34      8.4\n",
              "2                         SVC    78.28    172.8\n",
              "3      RandomForestClassifier    90.08    548.2\n",
              "4      DecisionTreeClassifier    82.74     68.0\n",
              "5           BaggingClassifier    71.44     90.7\n",
              "6          AdaBoostClassifier    66.67    574.5\n",
              "7  GradientBoostingClassifier     87.1      3.9\n",
              "8               XGBClassifier    90.96    256.9"
            ],
            "text/html": [
              "\n",
              "  <div id=\"df-13fb899b-72aa-4c7d-baff-b68158897e62\">\n",
              "    <div class=\"colab-df-container\">\n",
              "      <div>\n",
              "<style scoped>\n",
              "    .dataframe tbody tr th:only-of-type {\n",
              "        vertical-align: middle;\n",
              "    }\n",
              "\n",
              "    .dataframe tbody tr th {\n",
              "        vertical-align: top;\n",
              "    }\n",
              "\n",
              "    .dataframe thead th {\n",
              "        text-align: right;\n",
              "    }\n",
              "</style>\n",
              "<table border=\"1\" class=\"dataframe\">\n",
              "  <thead>\n",
              "    <tr style=\"text-align: right;\">\n",
              "      <th></th>\n",
              "      <th>Name</th>\n",
              "      <th>Score(%)</th>\n",
              "      <th>Time (s)</th>\n",
              "    </tr>\n",
              "  </thead>\n",
              "  <tbody>\n",
              "    <tr>\n",
              "      <th>0</th>\n",
              "      <td>LogisticRegression</td>\n",
              "      <td>71.44</td>\n",
              "      <td>69.2</td>\n",
              "    </tr>\n",
              "    <tr>\n",
              "      <th>1</th>\n",
              "      <td>GaussianNB</td>\n",
              "      <td>71.34</td>\n",
              "      <td>8.4</td>\n",
              "    </tr>\n",
              "    <tr>\n",
              "      <th>2</th>\n",
              "      <td>SVC</td>\n",
              "      <td>78.28</td>\n",
              "      <td>172.8</td>\n",
              "    </tr>\n",
              "    <tr>\n",
              "      <th>3</th>\n",
              "      <td>RandomForestClassifier</td>\n",
              "      <td>90.08</td>\n",
              "      <td>548.2</td>\n",
              "    </tr>\n",
              "    <tr>\n",
              "      <th>4</th>\n",
              "      <td>DecisionTreeClassifier</td>\n",
              "      <td>82.74</td>\n",
              "      <td>68.0</td>\n",
              "    </tr>\n",
              "    <tr>\n",
              "      <th>5</th>\n",
              "      <td>BaggingClassifier</td>\n",
              "      <td>71.44</td>\n",
              "      <td>90.7</td>\n",
              "    </tr>\n",
              "    <tr>\n",
              "      <th>6</th>\n",
              "      <td>AdaBoostClassifier</td>\n",
              "      <td>66.67</td>\n",
              "      <td>574.5</td>\n",
              "    </tr>\n",
              "    <tr>\n",
              "      <th>7</th>\n",
              "      <td>GradientBoostingClassifier</td>\n",
              "      <td>87.1</td>\n",
              "      <td>3.9</td>\n",
              "    </tr>\n",
              "    <tr>\n",
              "      <th>8</th>\n",
              "      <td>XGBClassifier</td>\n",
              "      <td>90.96</td>\n",
              "      <td>256.9</td>\n",
              "    </tr>\n",
              "  </tbody>\n",
              "</table>\n",
              "</div>\n",
              "      <button class=\"colab-df-convert\" onclick=\"convertToInteractive('df-13fb899b-72aa-4c7d-baff-b68158897e62')\"\n",
              "              title=\"Convert this dataframe to an interactive table.\"\n",
              "              style=\"display:none;\">\n",
              "        \n",
              "  <svg xmlns=\"http://www.w3.org/2000/svg\" height=\"24px\"viewBox=\"0 0 24 24\"\n",
              "       width=\"24px\">\n",
              "    <path d=\"M0 0h24v24H0V0z\" fill=\"none\"/>\n",
              "    <path d=\"M18.56 5.44l.94 2.06.94-2.06 2.06-.94-2.06-.94-.94-2.06-.94 2.06-2.06.94zm-11 1L8.5 8.5l.94-2.06 2.06-.94-2.06-.94L8.5 2.5l-.94 2.06-2.06.94zm10 10l.94 2.06.94-2.06 2.06-.94-2.06-.94-.94-2.06-.94 2.06-2.06.94z\"/><path d=\"M17.41 7.96l-1.37-1.37c-.4-.4-.92-.59-1.43-.59-.52 0-1.04.2-1.43.59L10.3 9.45l-7.72 7.72c-.78.78-.78 2.05 0 2.83L4 21.41c.39.39.9.59 1.41.59.51 0 1.02-.2 1.41-.59l7.78-7.78 2.81-2.81c.8-.78.8-2.07 0-2.86zM5.41 20L4 18.59l7.72-7.72 1.47 1.35L5.41 20z\"/>\n",
              "  </svg>\n",
              "      </button>\n",
              "      \n",
              "  <style>\n",
              "    .colab-df-container {\n",
              "      display:flex;\n",
              "      flex-wrap:wrap;\n",
              "      gap: 12px;\n",
              "    }\n",
              "\n",
              "    .colab-df-convert {\n",
              "      background-color: #E8F0FE;\n",
              "      border: none;\n",
              "      border-radius: 50%;\n",
              "      cursor: pointer;\n",
              "      display: none;\n",
              "      fill: #1967D2;\n",
              "      height: 32px;\n",
              "      padding: 0 0 0 0;\n",
              "      width: 32px;\n",
              "    }\n",
              "\n",
              "    .colab-df-convert:hover {\n",
              "      background-color: #E2EBFA;\n",
              "      box-shadow: 0px 1px 2px rgba(60, 64, 67, 0.3), 0px 1px 3px 1px rgba(60, 64, 67, 0.15);\n",
              "      fill: #174EA6;\n",
              "    }\n",
              "\n",
              "    [theme=dark] .colab-df-convert {\n",
              "      background-color: #3B4455;\n",
              "      fill: #D2E3FC;\n",
              "    }\n",
              "\n",
              "    [theme=dark] .colab-df-convert:hover {\n",
              "      background-color: #434B5C;\n",
              "      box-shadow: 0px 1px 3px 1px rgba(0, 0, 0, 0.15);\n",
              "      filter: drop-shadow(0px 1px 2px rgba(0, 0, 0, 0.3));\n",
              "      fill: #FFFFFF;\n",
              "    }\n",
              "  </style>\n",
              "\n",
              "      <script>\n",
              "        const buttonEl =\n",
              "          document.querySelector('#df-13fb899b-72aa-4c7d-baff-b68158897e62 button.colab-df-convert');\n",
              "        buttonEl.style.display =\n",
              "          google.colab.kernel.accessAllowed ? 'block' : 'none';\n",
              "\n",
              "        async function convertToInteractive(key) {\n",
              "          const element = document.querySelector('#df-13fb899b-72aa-4c7d-baff-b68158897e62');\n",
              "          const dataTable =\n",
              "            await google.colab.kernel.invokeFunction('convertToInteractive',\n",
              "                                                     [key], {});\n",
              "          if (!dataTable) return;\n",
              "\n",
              "          const docLinkHtml = 'Like what you see? Visit the ' +\n",
              "            '<a target=\"_blank\" href=https://colab.research.google.com/notebooks/data_table.ipynb>data table notebook</a>'\n",
              "            + ' to learn more about interactive tables.';\n",
              "          element.innerHTML = '';\n",
              "          dataTable['output_type'] = 'display_data';\n",
              "          await google.colab.output.renderOutput(dataTable, element);\n",
              "          const docLink = document.createElement('div');\n",
              "          docLink.innerHTML = docLinkHtml;\n",
              "          element.appendChild(docLink);\n",
              "        }\n",
              "      </script>\n",
              "    </div>\n",
              "  </div>\n",
              "  "
            ]
          },
          "metadata": {},
          "execution_count": 37
        }
      ]
    },
    {
      "cell_type": "markdown",
      "source": [
        "## XGBoost"
      ],
      "metadata": {
        "id": "zdqDFuPRdoJf"
      }
    },
    {
      "cell_type": "code",
      "source": [
        "# XGBoost with default hyperparameter\n",
        "xg_up_model = xgb.XGBClassifier()\n",
        "xg_up_model.fit(X_SM_train,y_SM_train)\n",
        "y_SM_pred_xg = xg_up_model.predict(X_SM_test)\n",
        "print(classification_report(y_SM_test, y_SM_pred_xg))\n",
        "print(\"XGBoost score:\",metrics.accuracy_score(y_SM_test,y_SM_pred_xg))"
      ],
      "metadata": {
        "colab": {
          "base_uri": "https://localhost:8080/"
        },
        "id": "WgcdEVaUDf_T",
        "outputId": "84eb3031-0419-4bc4-83a2-96c85c872847"
      },
      "execution_count": null,
      "outputs": [
        {
          "output_type": "stream",
          "name": "stdout",
          "text": [
            "              precision    recall  f1-score   support\n",
            "\n",
            "           0       0.89      0.93      0.91      1633\n",
            "           1       0.93      0.88      0.91      1553\n",
            "\n",
            "    accuracy                           0.91      3186\n",
            "   macro avg       0.91      0.91      0.91      3186\n",
            "weighted avg       0.91      0.91      0.91      3186\n",
            "\n",
            "XGBoost score: 0.9096045197740112\n"
          ]
        }
      ]
    },
    {
      "cell_type": "code",
      "source": [
        "class_names=[0,1] # name  of classes\n",
        "fig, ax = plt.subplots()\n",
        "tick_marks = np.arange(len(class_names))\n",
        "plt.xticks(tick_marks, class_names)\n",
        "plt.yticks(tick_marks, class_names)\n",
        "\n",
        "sns.heatmap(pd.DataFrame(metrics.confusion_matrix(y_SM_test,y_SM_pred_xg)), annot=True, cmap=\"YlGnBu\" ,fmt='g')\n",
        "\n",
        "plt.tight_layout()\n",
        "plt.title('Confusion matrix', y=1.1)\n",
        "plt.ylabel('Thực tế')\n",
        "plt.xlabel('Dự báo');"
      ],
      "metadata": {
        "colab": {
          "base_uri": "https://localhost:8080/",
          "height": 571
        },
        "id": "nwFsHxPmQo4s",
        "outputId": "91923069-031f-495a-8b31-ea7bcdd85daa"
      },
      "execution_count": null,
      "outputs": [
        {
          "output_type": "display_data",
          "data": {
            "text/plain": [
              "<Figure size 640x480 with 2 Axes>"
            ],
            "image/png": "[encoded data removed]"
          },
          "metadata": {}
        }
      ]
    },
    {
      "cell_type": "code",
      "source": [
        "from sklearn.model_selection import GridSearchCV\n",
        "from sklearn.metrics import classification_report\n",
        "xgb_model = xgb.XGBClassifier()\n",
        "\n",
        "# define parameter grid for GridSearchCV\n",
        "param_grid = {\n",
        "    'learning_rate': [0.1, 0.3, 0.5, 1],\n",
        "    'max_depth': [5, 11, 17],\n",
        "    'n_estimators': [100, 200, 500]\n",
        "}\n",
        "\n",
        "# initialize GridSearchCV\n",
        "grid_search = GridSearchCV(xgb_model, param_grid, cv=5, scoring='accuracy',n_jobs=-1)\n",
        "\n",
        "# fit GridSearchCV on training data\n",
        "grid_search.fit(X_SM_train, y_SM_train)\n",
        "\n",
        "# print best parameters and best score\n",
        "print(\"Best parameters found: \", grid_search.best_params_)\n",
        "print(\"Best accuracy score: \", grid_search.best_score_)\n",
        "\n",
        "# evaluate model on test data using best parameters\n",
        "y_SM_pred = grid_search.predict(X_SM_test)\n",
        "print(classification_report(y_SM_test, y_SM_pred))"
      ],
      "metadata": {
        "colab": {
          "base_uri": "https://localhost:8080/"
        },
        "id": "rHWYHa5DV_Pu",
        "outputId": "cb9a29de-35f2-46fc-9b3d-5df4489e1613"
      },
      "execution_count": null,
      "outputs": [
        {
          "output_type": "stream",
          "name": "stdout",
          "text": [
            "Best parameters found:  {'learning_rate': 0.1, 'max_depth': 5, 'n_estimators': 500}\n",
            "Best accuracy score:  0.9040816326530612\n",
            "              precision    recall  f1-score   support\n",
            "\n",
            "           0       0.90      0.94      0.92      1633\n",
            "           1       0.93      0.89      0.91      1553\n",
            "\n",
            "    accuracy                           0.91      3186\n",
            "   macro avg       0.91      0.91      0.91      3186\n",
            "weighted avg       0.91      0.91      0.91      3186\n",
            "\n"
          ]
        }
      ]
    },
    {
      "cell_type": "code",
      "source": [
        "class_names=[0,1] # name  of classes\n",
        "fig, ax = plt.subplots()\n",
        "tick_marks = np.arange(len(class_names))\n",
        "plt.xticks(tick_marks, class_names)\n",
        "plt.yticks(tick_marks, class_names)\n",
        "\n",
        "sns.heatmap(pd.DataFrame(metrics.confusion_matrix(y_SM_test,y_SM_pred)), annot=True, cmap=\"YlGnBu\" ,fmt='g')\n",
        "\n",
        "plt.tight_layout()\n",
        "plt.title('Confusion matrix', y=1.1)\n",
        "plt.ylabel('Thực tế')\n",
        "plt.xlabel('Dự báo');"
      ],
      "metadata": {
        "colab": {
          "base_uri": "https://localhost:8080/",
          "height": 571
        },
        "id": "5v10-ibzP3lM",
        "outputId": "ab7c3842-5e18-4bf5-8d4f-fffe2fbc2a23"
      },
      "execution_count": null,
      "outputs": [
        {
          "output_type": "display_data",
          "data": {
            "text/plain": [
              "<Figure size 640x480 with 2 Axes>"
            ],
            "image/png": "[encoded data removed]"
          },
          "metadata": {}
        }
      ]
    },
    {
      "cell_type": "markdown",
      "source": [
        "## RandomForest"
      ],
      "metadata": {
        "id": "u5EiSJ5Cdt6B"
      }
    },
    {
      "cell_type": "code",
      "source": [
        "# Random Forest with default hyperparameter\n",
        "rfc_up_model = RandomForestClassifier()\n",
        "rfc_up_model.fit(X_SM_train,y_SM_train)\n",
        "y_SM_pred_rfc = rfc_up_model.predict(X_SM_test)\n",
        "print(classification_report(y_SM_test, y_SM_pred_rfc))\n",
        "print(metrics.accuracy_score(y_SM_test,y_SM_pred_rfc))"
      ],
      "metadata": {
        "colab": {
          "base_uri": "https://localhost:8080/"
        },
        "id": "D700Kl7d_Uch",
        "outputId": "adaa7ddd-612e-4a5b-ff6d-f143b0ccf041"
      },
      "execution_count": null,
      "outputs": [
        {
          "output_type": "stream",
          "name": "stdout",
          "text": [
            "              precision    recall  f1-score   support\n",
            "\n",
            "           0       0.91      0.90      0.90      1633\n",
            "           1       0.89      0.91      0.90      1553\n",
            "\n",
            "    accuracy                           0.90      3186\n",
            "   macro avg       0.90      0.90      0.90      3186\n",
            "weighted avg       0.90      0.90      0.90      3186\n",
            "\n",
            "0.901443816698054\n"
          ]
        }
      ]
    },
    {
      "cell_type": "code",
      "source": [
        "class_names=[0,1] # name  of classes\n",
        "fig, ax = plt.subplots()\n",
        "tick_marks = np.arange(len(class_names))\n",
        "plt.xticks(tick_marks, class_names)\n",
        "plt.yticks(tick_marks, class_names)\n",
        "\n",
        "sns.heatmap(pd.DataFrame(metrics.confusion_matrix(y_SM_test,y_SM_pred_rfc)), annot=True, cmap=\"YlGnBu\" ,fmt='g')\n",
        "\n",
        "plt.tight_layout()\n",
        "plt.title('Confusion matrix', y=1.1)\n",
        "plt.ylabel('Thực tế')\n",
        "plt.xlabel('Dự báo');"
      ],
      "metadata": {
        "colab": {
          "base_uri": "https://localhost:8080/",
          "height": 571
        },
        "id": "DrsWChSbQU_k",
        "outputId": "4973ace1-8c2d-4b73-9ecb-0f28f36d8948"
      },
      "execution_count": null,
      "outputs": [
        {
          "output_type": "display_data",
          "data": {
            "text/plain": [
              "<Figure size 640x480 with 2 Axes>"
            ],
            "image/png": "[encoded data removed]"
          },
          "metadata": {}
        }
      ]
    },
    {
      "cell_type": "code",
      "source": [
        "rf_model = RandomForestClassifier()\n",
        "\n",
        "# define parameter grid for GridSearchCV\n",
        "param_grid = {\n",
        "    'n_estimators': [50, 100, 200],\n",
        "    'min_samples_split': [2, 5, 10],\n",
        "    'min_samples_leaf': [1, 2, 4],\n",
        "    'criterion': ['gini','entropy']\n",
        "}\n",
        "\n",
        "# initialize GridSearchCV\n",
        "grid_search = GridSearchCV(rf_model, param_grid, cv=5, scoring='accuracy',n_jobs=-1)\n",
        "\n",
        "# fit GridSearchCV on training data\n",
        "grid_search.fit(X_SM_train, y_SM_train)\n",
        "\n",
        "# print best parameters and best score\n",
        "print(\"Best parameters found: \", grid_search.best_params_)\n",
        "print(\"Best accuracy score: \", grid_search.best_score_)\n",
        "\n",
        "# evaluate model on test data using best parameters\n",
        "y_SM_pred = grid_search.predict(X_SM_test)\n",
        "print(classification_report(y_SM_test, y_SM_pred))"
      ],
      "metadata": {
        "colab": {
          "base_uri": "https://localhost:8080/"
        },
        "id": "cEt0MHDige7v",
        "outputId": "2cc9d350-f551-4c5e-9f14-fd5a5b425e6e"
      },
      "execution_count": null,
      "outputs": [
        {
          "output_type": "stream",
          "name": "stdout",
          "text": [
            "Best parameters found:  {'criterion': 'gini', 'min_samples_leaf': 1, 'min_samples_split': 2, 'n_estimators': 200}\n",
            "Best accuracy score:  0.8914442700156986\n",
            "              precision    recall  f1-score   support\n",
            "\n",
            "           0       0.91      0.89      0.90      1633\n",
            "           1       0.89      0.91      0.90      1553\n",
            "\n",
            "    accuracy                           0.90      3186\n",
            "   macro avg       0.90      0.90      0.90      3186\n",
            "weighted avg       0.90      0.90      0.90      3186\n",
            "\n"
          ]
        }
      ]
    },
    {
      "cell_type": "code",
      "source": [
        "class_names=[0,1] # name  of classes\n",
        "fig, ax = plt.subplots()\n",
        "tick_marks = np.arange(len(class_names))\n",
        "plt.xticks(tick_marks, class_names)\n",
        "plt.yticks(tick_marks, class_names)\n",
        "\n",
        "sns.heatmap(pd.DataFrame(metrics.confusion_matrix(y_SM_test,y_SM_pred)), annot=True, cmap=\"YlGnBu\" ,fmt='g')\n",
        "\n",
        "plt.tight_layout()\n",
        "plt.title('Confusion matrix', y=1.1)\n",
        "plt.ylabel('Thực tế')\n",
        "plt.xlabel('Dự báo');"
      ],
      "metadata": {
        "colab": {
          "base_uri": "https://localhost:8080/",
          "height": 571
        },
        "id": "mOKQ_FUzACWc",
        "outputId": "388ef83a-1958-448a-c951-2d1ad96fbd90"
      },
      "execution_count": null,
      "outputs": [
        {
          "output_type": "display_data",
          "data": {
            "text/plain": [
              "<Figure size 640x480 with 2 Axes>"
            ],
            "image/png": "[encoded data removed]"
          },
          "metadata": {}
        }
      ]
    },
    {
      "cell_type": "markdown",
      "source": [
        "## Neural Network model"
      ],
      "metadata": {
        "id": "r2A9fQfXdzak"
      }
    },
    {
      "cell_type": "code",
      "source": [
        "import tensorflow as tf\n",
        "from tensorflow import keras\n",
        "\n",
        "model = keras.Sequential([\n",
        "    keras.layers.Dense(200, input_shape=(12,), activation='relu'),\n",
        "    keras.layers.Dense(100, activation='relu'),\n",
        "    keras.layers.Dense(50, activation='relu'),\n",
        "    keras.layers.Dense(25, activation='relu'),\n",
        "    keras.layers.Dense(1, activation='sigmoid')\n",
        "])\n",
        "model.compile(optimizer='adam',\n",
        "              loss='binary_crossentropy',\n",
        "              metrics=['accuracy'])\n",
        "model.fit(X_SM_train, y_SM_train, epochs=194, batch_size=32)"
      ],
      "metadata": {
        "colab": {
          "base_uri": "https://localhost:8080/"
        },
        "id": "4ubHWp3AWv6D",
        "outputId": "5988c558-9853-45e9-f283-5d628940beba"
      },
      "execution_count": null,
      "outputs": [
        {
          "output_type": "stream",
          "name": "stdout",
          "text": [
            "Epoch 1/194\n",
            "399/399 [==============================] - 3s 4ms/step - loss: 0.5762 - accuracy: 0.6959\n",
            "Epoch 2/194\n",
            "399/399 [==============================] - 2s 4ms/step - loss: 0.4704 - accuracy: 0.7718\n",
            "Epoch 3/194\n",
            "399/399 [==============================] - 2s 6ms/step - loss: 0.4440 - accuracy: 0.7881\n",
            "Epoch 4/194\n",
            "399/399 [==============================] - 2s 4ms/step - loss: 0.4343 - accuracy: 0.7943\n",
            "Epoch 5/194\n",
            "399/399 [==============================] - 1s 4ms/step - loss: 0.4300 - accuracy: 0.7975\n",
            "Epoch 6/194\n",
            "399/399 [==============================] - 1s 4ms/step - loss: 0.4225 - accuracy: 0.8002\n",
            "Epoch 7/194\n",
            "399/399 [==============================] - 2s 4ms/step - loss: 0.4163 - accuracy: 0.8035\n",
            "Epoch 8/194\n",
            "399/399 [==============================] - 2s 4ms/step - loss: 0.4099 - accuracy: 0.8109\n",
            "Epoch 9/194\n",
            "399/399 [==============================] - 2s 4ms/step - loss: 0.4046 - accuracy: 0.8132\n",
            "Epoch 10/194\n",
            "399/399 [==============================] - 2s 5ms/step - loss: 0.4035 - accuracy: 0.8158\n",
            "Epoch 11/194\n",
            "399/399 [==============================] - 2s 5ms/step - loss: 0.3931 - accuracy: 0.8211\n",
            "Epoch 12/194\n",
            "399/399 [==============================] - 1s 4ms/step - loss: 0.3884 - accuracy: 0.8235\n",
            "Epoch 13/194\n",
            "399/399 [==============================] - 1s 4ms/step - loss: 0.3830 - accuracy: 0.8254\n",
            "Epoch 14/194\n",
            "399/399 [==============================] - 2s 4ms/step - loss: 0.3751 - accuracy: 0.8315\n",
            "Epoch 15/194\n",
            "399/399 [==============================] - 2s 4ms/step - loss: 0.3726 - accuracy: 0.8315\n",
            "Epoch 16/194\n",
            "399/399 [==============================] - 1s 4ms/step - loss: 0.3643 - accuracy: 0.8308\n",
            "Epoch 17/194\n",
            "399/399 [==============================] - 2s 4ms/step - loss: 0.3578 - accuracy: 0.8380\n",
            "Epoch 18/194\n",
            "399/399 [==============================] - 2s 5ms/step - loss: 0.3566 - accuracy: 0.8399\n",
            "Epoch 19/194\n",
            "399/399 [==============================] - 2s 4ms/step - loss: 0.3507 - accuracy: 0.8414\n",
            "Epoch 20/194\n",
            "399/399 [==============================] - 2s 4ms/step - loss: 0.3409 - accuracy: 0.8480\n",
            "Epoch 21/194\n",
            "399/399 [==============================] - 2s 4ms/step - loss: 0.3349 - accuracy: 0.8538\n",
            "Epoch 22/194\n",
            "399/399 [==============================] - 1s 4ms/step - loss: 0.3317 - accuracy: 0.8516\n",
            "Epoch 23/194\n",
            "399/399 [==============================] - 2s 4ms/step - loss: 0.3287 - accuracy: 0.8553\n",
            "Epoch 24/194\n",
            "399/399 [==============================] - 2s 4ms/step - loss: 0.3208 - accuracy: 0.8589\n",
            "Epoch 25/194\n",
            "399/399 [==============================] - 2s 4ms/step - loss: 0.3135 - accuracy: 0.8597\n",
            "Epoch 26/194\n",
            "399/399 [==============================] - 2s 6ms/step - loss: 0.3071 - accuracy: 0.8653\n",
            "Epoch 27/194\n",
            "399/399 [==============================] - 2s 4ms/step - loss: 0.3028 - accuracy: 0.8675\n",
            "Epoch 28/194\n",
            "399/399 [==============================] - 2s 4ms/step - loss: 0.2989 - accuracy: 0.8687\n",
            "Epoch 29/194\n",
            "399/399 [==============================] - 2s 4ms/step - loss: 0.2948 - accuracy: 0.8714\n",
            "Epoch 30/194\n",
            "399/399 [==============================] - 2s 4ms/step - loss: 0.2863 - accuracy: 0.8743\n",
            "Epoch 31/194\n",
            "399/399 [==============================] - 1s 4ms/step - loss: 0.2834 - accuracy: 0.8764\n",
            "Epoch 32/194\n",
            "399/399 [==============================] - 1s 4ms/step - loss: 0.2781 - accuracy: 0.8790\n",
            "Epoch 33/194\n",
            "399/399 [==============================] - 2s 5ms/step - loss: 0.2664 - accuracy: 0.8813\n",
            "Epoch 34/194\n",
            "399/399 [==============================] - 2s 5ms/step - loss: 0.2667 - accuracy: 0.8852\n",
            "Epoch 35/194\n",
            "399/399 [==============================] - 1s 4ms/step - loss: 0.2602 - accuracy: 0.8899\n",
            "Epoch 36/194\n",
            "399/399 [==============================] - 1s 4ms/step - loss: 0.2578 - accuracy: 0.8860\n",
            "Epoch 37/194\n",
            "399/399 [==============================] - 2s 4ms/step - loss: 0.2469 - accuracy: 0.8940\n",
            "Epoch 38/194\n",
            "399/399 [==============================] - 2s 4ms/step - loss: 0.2469 - accuracy: 0.8911\n",
            "Epoch 39/194\n",
            "399/399 [==============================] - 2s 4ms/step - loss: 0.2406 - accuracy: 0.8959\n",
            "Epoch 40/194\n",
            "399/399 [==============================] - 1s 4ms/step - loss: 0.2385 - accuracy: 0.8984\n",
            "Epoch 41/194\n",
            "399/399 [==============================] - 2s 5ms/step - loss: 0.2359 - accuracy: 0.8973\n",
            "Epoch 42/194\n",
            "399/399 [==============================] - 2s 5ms/step - loss: 0.2262 - accuracy: 0.9036\n",
            "Epoch 43/194\n",
            "399/399 [==============================] - 1s 4ms/step - loss: 0.2262 - accuracy: 0.9035\n",
            "Epoch 44/194\n",
            "399/399 [==============================] - 1s 4ms/step - loss: 0.2237 - accuracy: 0.9048\n",
            "Epoch 45/194\n",
            "399/399 [==============================] - 1s 4ms/step - loss: 0.2165 - accuracy: 0.9106\n",
            "Epoch 46/194\n",
            "399/399 [==============================] - 2s 4ms/step - loss: 0.2170 - accuracy: 0.9078\n",
            "Epoch 47/194\n",
            "399/399 [==============================] - 2s 4ms/step - loss: 0.2099 - accuracy: 0.9119\n",
            "Epoch 48/194\n",
            "399/399 [==============================] - 1s 4ms/step - loss: 0.2029 - accuracy: 0.9137\n",
            "Epoch 49/194\n",
            "399/399 [==============================] - 2s 5ms/step - loss: 0.2049 - accuracy: 0.9125\n",
            "Epoch 50/194\n",
            "399/399 [==============================] - 2s 4ms/step - loss: 0.1989 - accuracy: 0.9170\n",
            "Epoch 51/194\n",
            "399/399 [==============================] - 1s 4ms/step - loss: 0.1880 - accuracy: 0.9203\n",
            "Epoch 52/194\n",
            "399/399 [==============================] - 1s 4ms/step - loss: 0.1919 - accuracy: 0.9203\n",
            "Epoch 53/194\n",
            "399/399 [==============================] - 2s 4ms/step - loss: 0.1870 - accuracy: 0.9236\n",
            "Epoch 54/194\n",
            "399/399 [==============================] - 2s 4ms/step - loss: 0.1825 - accuracy: 0.9250\n",
            "Epoch 55/194\n",
            "399/399 [==============================] - 2s 4ms/step - loss: 0.1819 - accuracy: 0.9243\n",
            "Epoch 56/194\n",
            "399/399 [==============================] - 2s 4ms/step - loss: 0.1784 - accuracy: 0.9251\n",
            "Epoch 57/194\n",
            "399/399 [==============================] - 2s 6ms/step - loss: 0.1705 - accuracy: 0.9283\n",
            "Epoch 58/194\n",
            "399/399 [==============================] - 1s 4ms/step - loss: 0.1725 - accuracy: 0.9276\n",
            "Epoch 59/194\n",
            "399/399 [==============================] - 1s 4ms/step - loss: 0.1664 - accuracy: 0.9319\n",
            "Epoch 60/194\n",
            "399/399 [==============================] - 2s 4ms/step - loss: 0.1573 - accuracy: 0.9345\n",
            "Epoch 61/194\n",
            "399/399 [==============================] - 1s 4ms/step - loss: 0.1655 - accuracy: 0.9337\n",
            "Epoch 62/194\n",
            "399/399 [==============================] - 2s 4ms/step - loss: 0.1604 - accuracy: 0.9324\n",
            "Epoch 63/194\n",
            "399/399 [==============================] - 2s 4ms/step - loss: 0.1560 - accuracy: 0.9354\n",
            "Epoch 64/194\n",
            "399/399 [==============================] - 2s 5ms/step - loss: 0.1471 - accuracy: 0.9418\n",
            "Epoch 65/194\n",
            "399/399 [==============================] - 2s 5ms/step - loss: 0.1569 - accuracy: 0.9376\n",
            "Epoch 66/194\n",
            "399/399 [==============================] - 1s 4ms/step - loss: 0.1475 - accuracy: 0.9414\n",
            "Epoch 67/194\n",
            "399/399 [==============================] - 2s 4ms/step - loss: 0.1459 - accuracy: 0.9430\n",
            "Epoch 68/194\n",
            "399/399 [==============================] - 1s 4ms/step - loss: 0.1348 - accuracy: 0.9482\n",
            "Epoch 69/194\n",
            "399/399 [==============================] - 2s 4ms/step - loss: 0.1442 - accuracy: 0.9439\n",
            "Epoch 70/194\n",
            "399/399 [==============================] - 2s 4ms/step - loss: 0.1467 - accuracy: 0.9425\n",
            "Epoch 71/194\n",
            "399/399 [==============================] - 1s 4ms/step - loss: 0.1311 - accuracy: 0.9470\n",
            "Epoch 72/194\n",
            "399/399 [==============================] - 2s 5ms/step - loss: 0.1273 - accuracy: 0.9497\n",
            "Epoch 73/194\n",
            "399/399 [==============================] - 2s 5ms/step - loss: 0.1373 - accuracy: 0.9425\n",
            "Epoch 74/194\n",
            "399/399 [==============================] - 2s 4ms/step - loss: 0.1240 - accuracy: 0.9525\n",
            "Epoch 75/194\n",
            "399/399 [==============================] - 1s 4ms/step - loss: 0.1307 - accuracy: 0.9476\n",
            "Epoch 76/194\n",
            "399/399 [==============================] - 2s 4ms/step - loss: 0.1258 - accuracy: 0.9498\n",
            "Epoch 77/194\n",
            "399/399 [==============================] - 1s 4ms/step - loss: 0.1252 - accuracy: 0.9509\n",
            "Epoch 78/194\n",
            "399/399 [==============================] - 2s 4ms/step - loss: 0.1188 - accuracy: 0.9532\n",
            "Epoch 79/194\n",
            "399/399 [==============================] - 1s 4ms/step - loss: 0.1200 - accuracy: 0.9532\n",
            "Epoch 80/194\n",
            "399/399 [==============================] - 2s 6ms/step - loss: 0.1163 - accuracy: 0.9549\n",
            "Epoch 81/194\n",
            "399/399 [==============================] - 2s 4ms/step - loss: 0.1202 - accuracy: 0.9538\n",
            "Epoch 82/194\n",
            "399/399 [==============================] - 2s 4ms/step - loss: 0.1101 - accuracy: 0.9564\n",
            "Epoch 83/194\n",
            "399/399 [==============================] - 1s 4ms/step - loss: 0.1160 - accuracy: 0.9528\n",
            "Epoch 84/194\n",
            "399/399 [==============================] - 2s 4ms/step - loss: 0.1117 - accuracy: 0.9564\n",
            "Epoch 85/194\n",
            "399/399 [==============================] - 2s 4ms/step - loss: 0.1092 - accuracy: 0.9572\n",
            "Epoch 86/194\n",
            "399/399 [==============================] - 1s 4ms/step - loss: 0.1064 - accuracy: 0.9585\n",
            "Epoch 87/194\n",
            "399/399 [==============================] - 2s 4ms/step - loss: 0.1051 - accuracy: 0.9577\n",
            "Epoch 88/194\n",
            "399/399 [==============================] - 2s 5ms/step - loss: 0.1086 - accuracy: 0.9577\n",
            "Epoch 89/194\n",
            "399/399 [==============================] - 2s 4ms/step - loss: 0.1040 - accuracy: 0.9597\n",
            "Epoch 90/194\n",
            "399/399 [==============================] - 2s 4ms/step - loss: 0.0938 - accuracy: 0.9630\n",
            "Epoch 91/194\n",
            "399/399 [==============================] - 2s 4ms/step - loss: 0.1067 - accuracy: 0.9584\n",
            "Epoch 92/194\n",
            "399/399 [==============================] - 2s 4ms/step - loss: 0.1047 - accuracy: 0.9595\n",
            "Epoch 93/194\n",
            "399/399 [==============================] - 2s 4ms/step - loss: 0.0980 - accuracy: 0.9605\n",
            "Epoch 94/194\n",
            "399/399 [==============================] - 2s 4ms/step - loss: 0.0919 - accuracy: 0.9650\n",
            "Epoch 95/194\n",
            "399/399 [==============================] - 2s 5ms/step - loss: 0.1097 - accuracy: 0.9565\n",
            "Epoch 96/194\n",
            "399/399 [==============================] - 2s 5ms/step - loss: 0.0933 - accuracy: 0.9616\n",
            "Epoch 97/194\n",
            "399/399 [==============================] - 2s 4ms/step - loss: 0.0922 - accuracy: 0.9655\n",
            "Epoch 98/194\n",
            "399/399 [==============================] - 2s 4ms/step - loss: 0.0915 - accuracy: 0.9630\n",
            "Epoch 99/194\n",
            "399/399 [==============================] - 2s 4ms/step - loss: 0.0967 - accuracy: 0.9621\n",
            "Epoch 100/194\n",
            "399/399 [==============================] - 2s 4ms/step - loss: 0.0803 - accuracy: 0.9688\n",
            "Epoch 101/194\n",
            "399/399 [==============================] - 2s 4ms/step - loss: 0.0905 - accuracy: 0.9642\n",
            "Epoch 102/194\n",
            "399/399 [==============================] - 2s 4ms/step - loss: 0.0878 - accuracy: 0.9659\n",
            "Epoch 103/194\n",
            "399/399 [==============================] - 2s 6ms/step - loss: 0.0885 - accuracy: 0.9655\n",
            "Epoch 104/194\n",
            "399/399 [==============================] - 2s 4ms/step - loss: 0.0855 - accuracy: 0.9668\n",
            "Epoch 105/194\n",
            "399/399 [==============================] - 1s 4ms/step - loss: 0.0846 - accuracy: 0.9663\n",
            "Epoch 106/194\n",
            "399/399 [==============================] - 2s 4ms/step - loss: 0.0962 - accuracy: 0.9626\n",
            "Epoch 107/194\n",
            "399/399 [==============================] - 2s 4ms/step - loss: 0.0800 - accuracy: 0.9692\n",
            "Epoch 108/194\n",
            "399/399 [==============================] - 2s 4ms/step - loss: 0.0802 - accuracy: 0.9684\n",
            "Epoch 109/194\n",
            "399/399 [==============================] - 1s 4ms/step - loss: 0.0866 - accuracy: 0.9662\n",
            "Epoch 110/194\n",
            "399/399 [==============================] - 2s 4ms/step - loss: 0.0814 - accuracy: 0.9676\n",
            "Epoch 111/194\n",
            "399/399 [==============================] - 2s 6ms/step - loss: 0.0661 - accuracy: 0.9743\n",
            "Epoch 112/194\n",
            "399/399 [==============================] - 2s 4ms/step - loss: 0.0757 - accuracy: 0.9699\n",
            "Epoch 113/194\n",
            "399/399 [==============================] - 1s 4ms/step - loss: 0.0822 - accuracy: 0.9702\n",
            "Epoch 114/194\n",
            "399/399 [==============================] - 2s 4ms/step - loss: 0.0816 - accuracy: 0.9691\n",
            "Epoch 115/194\n",
            "399/399 [==============================] - 2s 4ms/step - loss: 0.0806 - accuracy: 0.9695\n",
            "Epoch 116/194\n",
            "399/399 [==============================] - 2s 4ms/step - loss: 0.0755 - accuracy: 0.9700\n",
            "Epoch 117/194\n",
            "399/399 [==============================] - 2s 4ms/step - loss: 0.0774 - accuracy: 0.9707\n",
            "Epoch 118/194\n",
            "399/399 [==============================] - 2s 4ms/step - loss: 0.0790 - accuracy: 0.9690\n",
            "Epoch 119/194\n",
            "399/399 [==============================] - 2s 5ms/step - loss: 0.0664 - accuracy: 0.9759\n",
            "Epoch 120/194\n",
            "399/399 [==============================] - 2s 4ms/step - loss: 0.0694 - accuracy: 0.9750\n",
            "Epoch 121/194\n",
            "399/399 [==============================] - 2s 4ms/step - loss: 0.0850 - accuracy: 0.9684\n",
            "Epoch 122/194\n",
            "399/399 [==============================] - 2s 4ms/step - loss: 0.0665 - accuracy: 0.9748\n",
            "Epoch 123/194\n",
            "399/399 [==============================] - 2s 4ms/step - loss: 0.0788 - accuracy: 0.9714\n",
            "Epoch 124/194\n",
            "399/399 [==============================] - 2s 4ms/step - loss: 0.0670 - accuracy: 0.9740\n",
            "Epoch 125/194\n",
            "399/399 [==============================] - 2s 4ms/step - loss: 0.0679 - accuracy: 0.9736\n",
            "Epoch 126/194\n",
            "399/399 [==============================] - 2s 5ms/step - loss: 0.0781 - accuracy: 0.9709\n",
            "Epoch 127/194\n",
            "399/399 [==============================] - 2s 5ms/step - loss: 0.0624 - accuracy: 0.9757\n",
            "Epoch 128/194\n",
            "399/399 [==============================] - 2s 4ms/step - loss: 0.0560 - accuracy: 0.9784\n",
            "Epoch 129/194\n",
            "399/399 [==============================] - 2s 4ms/step - loss: 0.0702 - accuracy: 0.9726\n",
            "Epoch 130/194\n",
            "399/399 [==============================] - 2s 4ms/step - loss: 0.0700 - accuracy: 0.9735\n",
            "Epoch 131/194\n",
            "399/399 [==============================] - 2s 4ms/step - loss: 0.0661 - accuracy: 0.9745\n",
            "Epoch 132/194\n",
            "399/399 [==============================] - 2s 4ms/step - loss: 0.0601 - accuracy: 0.9787\n",
            "Epoch 133/194\n",
            "399/399 [==============================] - 2s 4ms/step - loss: 0.0754 - accuracy: 0.9707\n",
            "Epoch 134/194\n",
            "399/399 [==============================] - 2s 6ms/step - loss: 0.0570 - accuracy: 0.9782\n",
            "Epoch 135/194\n",
            "399/399 [==============================] - 2s 4ms/step - loss: 0.0535 - accuracy: 0.9798\n",
            "Epoch 136/194\n",
            "399/399 [==============================] - 2s 4ms/step - loss: 0.0541 - accuracy: 0.9800\n",
            "Epoch 137/194\n",
            "399/399 [==============================] - 2s 4ms/step - loss: 0.0698 - accuracy: 0.9735\n",
            "Epoch 138/194\n",
            "399/399 [==============================] - 2s 4ms/step - loss: 0.0813 - accuracy: 0.9692\n",
            "Epoch 139/194\n",
            "399/399 [==============================] - 2s 4ms/step - loss: 0.0543 - accuracy: 0.9816\n",
            "Epoch 140/194\n",
            "399/399 [==============================] - 2s 4ms/step - loss: 0.0612 - accuracy: 0.9764\n",
            "Epoch 141/194\n",
            "399/399 [==============================] - 2s 5ms/step - loss: 0.0525 - accuracy: 0.9818\n",
            "Epoch 142/194\n",
            "399/399 [==============================] - 2s 5ms/step - loss: 0.0663 - accuracy: 0.9736\n",
            "Epoch 143/194\n",
            "399/399 [==============================] - 2s 4ms/step - loss: 0.0687 - accuracy: 0.9760\n",
            "Epoch 144/194\n",
            "399/399 [==============================] - 2s 4ms/step - loss: 0.0504 - accuracy: 0.9819\n",
            "Epoch 145/194\n",
            "399/399 [==============================] - 2s 4ms/step - loss: 0.0614 - accuracy: 0.9759\n",
            "Epoch 146/194\n",
            "399/399 [==============================] - 2s 4ms/step - loss: 0.0470 - accuracy: 0.9831\n",
            "Epoch 147/194\n",
            "399/399 [==============================] - 2s 4ms/step - loss: 0.0747 - accuracy: 0.9755\n",
            "Epoch 148/194\n",
            "399/399 [==============================] - 2s 4ms/step - loss: 0.0551 - accuracy: 0.9797\n",
            "Epoch 149/194\n",
            "399/399 [==============================] - 2s 6ms/step - loss: 0.0535 - accuracy: 0.9815\n",
            "Epoch 150/194\n",
            "399/399 [==============================] - 2s 4ms/step - loss: 0.0772 - accuracy: 0.9716\n",
            "Epoch 151/194\n",
            "399/399 [==============================] - 2s 4ms/step - loss: 0.0477 - accuracy: 0.9823\n",
            "Epoch 152/194\n",
            "399/399 [==============================] - 2s 4ms/step - loss: 0.0505 - accuracy: 0.9823\n",
            "Epoch 153/194\n",
            "399/399 [==============================] - 2s 4ms/step - loss: 0.0563 - accuracy: 0.9789\n",
            "Epoch 154/194\n",
            "399/399 [==============================] - 2s 4ms/step - loss: 0.0528 - accuracy: 0.9808\n",
            "Epoch 155/194\n",
            "399/399 [==============================] - 2s 4ms/step - loss: 0.0473 - accuracy: 0.9821\n",
            "Epoch 156/194\n",
            "399/399 [==============================] - 2s 5ms/step - loss: 0.0584 - accuracy: 0.9807\n",
            "Epoch 157/194\n",
            "399/399 [==============================] - 2s 5ms/step - loss: 0.0655 - accuracy: 0.9748\n",
            "Epoch 158/194\n",
            "399/399 [==============================] - 2s 4ms/step - loss: 0.0437 - accuracy: 0.9837\n",
            "Epoch 159/194\n",
            "399/399 [==============================] - 2s 4ms/step - loss: 0.0490 - accuracy: 0.9817\n",
            "Epoch 160/194\n",
            "399/399 [==============================] - 2s 4ms/step - loss: 0.0620 - accuracy: 0.9783\n",
            "Epoch 161/194\n",
            "399/399 [==============================] - 2s 4ms/step - loss: 0.0438 - accuracy: 0.9825\n",
            "Epoch 162/194\n",
            "399/399 [==============================] - 2s 4ms/step - loss: 0.0516 - accuracy: 0.9816\n",
            "Epoch 163/194\n",
            "399/399 [==============================] - 2s 4ms/step - loss: 0.0559 - accuracy: 0.9776\n",
            "Epoch 164/194\n",
            "399/399 [==============================] - 2s 6ms/step - loss: 0.0627 - accuracy: 0.9774\n",
            "Epoch 165/194\n",
            "399/399 [==============================] - 2s 4ms/step - loss: 0.0417 - accuracy: 0.9835\n",
            "Epoch 166/194\n",
            "399/399 [==============================] - 2s 4ms/step - loss: 0.0464 - accuracy: 0.9816\n",
            "Epoch 167/194\n",
            "399/399 [==============================] - 2s 4ms/step - loss: 0.0465 - accuracy: 0.9838\n",
            "Epoch 168/194\n",
            "399/399 [==============================] - 2s 4ms/step - loss: 0.0460 - accuracy: 0.9818\n",
            "Epoch 169/194\n",
            "399/399 [==============================] - 2s 4ms/step - loss: 0.0466 - accuracy: 0.9836\n",
            "Epoch 170/194\n",
            "399/399 [==============================] - 2s 4ms/step - loss: 0.0457 - accuracy: 0.9845\n",
            "Epoch 171/194\n",
            "399/399 [==============================] - 2s 5ms/step - loss: 0.0532 - accuracy: 0.9792\n",
            "Epoch 172/194\n",
            "399/399 [==============================] - 2s 5ms/step - loss: 0.0660 - accuracy: 0.9761\n",
            "Epoch 173/194\n",
            "399/399 [==============================] - 2s 4ms/step - loss: 0.0376 - accuracy: 0.9859\n",
            "Epoch 174/194\n",
            "399/399 [==============================] - 2s 4ms/step - loss: 0.0489 - accuracy: 0.9832\n",
            "Epoch 175/194\n",
            "399/399 [==============================] - 1s 4ms/step - loss: 0.0471 - accuracy: 0.9809\n",
            "Epoch 176/194\n",
            "399/399 [==============================] - 2s 4ms/step - loss: 0.0520 - accuracy: 0.9821\n",
            "Epoch 177/194\n",
            "399/399 [==============================] - 2s 4ms/step - loss: 0.0477 - accuracy: 0.9839\n",
            "Epoch 178/194\n",
            "399/399 [==============================] - 2s 4ms/step - loss: 0.0498 - accuracy: 0.9820\n",
            "Epoch 179/194\n",
            "399/399 [==============================] - 2s 5ms/step - loss: 0.0469 - accuracy: 0.9832\n",
            "Epoch 180/194\n",
            "399/399 [==============================] - 2s 5ms/step - loss: 0.0388 - accuracy: 0.9857\n",
            "Epoch 181/194\n",
            "399/399 [==============================] - 2s 4ms/step - loss: 0.0470 - accuracy: 0.9838\n",
            "Epoch 182/194\n",
            "399/399 [==============================] - 2s 4ms/step - loss: 0.0353 - accuracy: 0.9881\n",
            "Epoch 183/194\n",
            "399/399 [==============================] - 2s 4ms/step - loss: 0.0405 - accuracy: 0.9855\n",
            "Epoch 184/194\n",
            "399/399 [==============================] - 2s 4ms/step - loss: 0.0411 - accuracy: 0.9844\n",
            "Epoch 185/194\n",
            "399/399 [==============================] - 2s 4ms/step - loss: 0.0636 - accuracy: 0.9772\n",
            "Epoch 186/194\n",
            "399/399 [==============================] - 2s 4ms/step - loss: 0.0428 - accuracy: 0.9853\n",
            "Epoch 187/194\n",
            "399/399 [==============================] - 2s 6ms/step - loss: 0.0488 - accuracy: 0.9850\n",
            "Epoch 188/194\n",
            "399/399 [==============================] - 2s 4ms/step - loss: 0.0373 - accuracy: 0.9867\n",
            "Epoch 189/194\n",
            "399/399 [==============================] - 2s 4ms/step - loss: 0.0390 - accuracy: 0.9867\n",
            "Epoch 190/194\n",
            "399/399 [==============================] - 2s 4ms/step - loss: 0.0337 - accuracy: 0.9869\n",
            "Epoch 191/194\n",
            "399/399 [==============================] - 2s 4ms/step - loss: 0.0638 - accuracy: 0.9776\n",
            "Epoch 192/194\n",
            "399/399 [==============================] - 1s 4ms/step - loss: 0.0425 - accuracy: 0.9845\n",
            "Epoch 193/194\n",
            "399/399 [==============================] - 2s 4ms/step - loss: 0.0299 - accuracy: 0.9895\n",
            "Epoch 194/194\n",
            "399/399 [==============================] - 2s 5ms/step - loss: 0.0476 - accuracy: 0.9834\n"
          ]
        },
        {
          "output_type": "execute_result",
          "data": {
            "text/plain": [
              "<keras.callbacks.History at 0x7f6cc6258a90>"
            ]
          },
          "metadata": {},
          "execution_count": 59
        }
      ]
    },
    {
      "cell_type": "code",
      "source": [
        "model.summary()"
      ],
      "metadata": {
        "colab": {
          "base_uri": "https://localhost:8080/"
        },
        "id": "Nd795WXiIGoK",
        "outputId": "1da62bd9-63d9-43a0-99ec-c9f31ecd97ca"
      },
      "execution_count": null,
      "outputs": [
        {
          "output_type": "stream",
          "name": "stdout",
          "text": [
            "Model: \"sequential_2\"\n",
            "_________________________________________________________________\n",
            " Layer (type)                Output Shape              Param #   \n",
            "=================================================================\n",
            " dense_10 (Dense)            (None, 200)               2600      \n",
            "                                                                 \n",
            " dense_11 (Dense)            (None, 100)               20100     \n",
            "                                                                 \n",
            " dense_12 (Dense)            (None, 50)                5050      \n",
            "                                                                 \n",
            " dense_13 (Dense)            (None, 25)                1275      \n",
            "                                                                 \n",
            " dense_14 (Dense)            (None, 1)                 26        \n",
            "                                                                 \n",
            "=================================================================\n",
            "Total params: 29,051\n",
            "Trainable params: 29,051\n",
            "Non-trainable params: 0\n",
            "_________________________________________________________________\n"
          ]
        }
      ]
    },
    {
      "cell_type": "code",
      "source": [
        "y_SM_pred_keras = model.predict(X_SM_test)"
      ],
      "metadata": {
        "colab": {
          "base_uri": "https://localhost:8080/"
        },
        "id": "7DhqmOrTYyMf",
        "outputId": "cf92e16e-c3d2-47cb-b070-9a92f721befb"
      },
      "execution_count": null,
      "outputs": [
        {
          "output_type": "stream",
          "name": "stdout",
          "text": [
            "100/100 [==============================] - 0s 1ms/step\n"
          ]
        }
      ]
    },
    {
      "cell_type": "code",
      "source": [
        "y_SM_pred_keras_yn = []\n",
        "for element in y_SM_pred_keras:\n",
        "    if element > 0.5:\n",
        "        y_SM_pred_keras_yn.append(1)\n",
        "    else:\n",
        "        y_SM_pred_keras_yn.append(0)"
      ],
      "metadata": {
        "id": "tYdatuY2Zehh"
      },
      "execution_count": null,
      "outputs": []
    },
    {
      "cell_type": "code",
      "source": [
        "from sklearn.metrics import classification_report\n",
        "print(classification_report(y_SM_test,y_SM_pred_keras_yn))"
      ],
      "metadata": {
        "colab": {
          "base_uri": "https://localhost:8080/"
        },
        "id": "mi0HmujJY7S3",
        "outputId": "4dd2286c-9d25-4c9a-d7ea-84af84d49517"
      },
      "execution_count": null,
      "outputs": [
        {
          "output_type": "stream",
          "name": "stdout",
          "text": [
            "              precision    recall  f1-score   support\n",
            "\n",
            "           0       0.91      0.89      0.90      1633\n",
            "           1       0.89      0.90      0.89      1553\n",
            "\n",
            "    accuracy                           0.90      3186\n",
            "   macro avg       0.90      0.90      0.90      3186\n",
            "weighted avg       0.90      0.90      0.90      3186\n",
            "\n"
          ]
        }
      ]
    },
    {
      "cell_type": "code",
      "source": [
        "from sklearn import metrics\n",
        "class_names=[0,1] # name  of classes\n",
        "fig, ax = plt.subplots()\n",
        "tick_marks = np.arange(len(class_names))\n",
        "plt.xticks(tick_marks, class_names)\n",
        "plt.yticks(tick_marks, class_names)\n",
        "\n",
        "sns.heatmap(pd.DataFrame(metrics.confusion_matrix(y_SM_test,y_SM_pred_keras_yn)), annot=True, cmap=\"YlGnBu\" ,fmt='g')\n",
        "\n",
        "plt.tight_layout()\n",
        "plt.title('Confusion matrix', y=1.1)\n",
        "plt.ylabel('Thực tế')\n",
        "plt.xlabel('Dự báo');"
      ],
      "metadata": {
        "colab": {
          "base_uri": "https://localhost:8080/",
          "height": 571
        },
        "id": "4oGGDGNUaAU0",
        "outputId": "d1ed7b7e-fa1e-4127-a9c1-fd1cec2af0fc"
      },
      "execution_count": null,
      "outputs": [
        {
          "output_type": "display_data",
          "data": {
            "text/plain": [
              "<Figure size 640x480 with 2 Axes>"
            ],
            "image/png": "[encoded data removed]"
          },
          "metadata": {}
        }
      ]
    }
  ]
}